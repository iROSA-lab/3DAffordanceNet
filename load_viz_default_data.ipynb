{
 "cells": [
  {
   "cell_type": "code",
   "execution_count": 1,
   "metadata": {},
   "outputs": [
    {
     "name": "stdout",
     "output_type": "stream",
     "text": [
      "Jupyter environment detected. Enabling Open3D WebVisualizer.\n",
      "[Open3D INFO] WebRTC GUI backend enabled.\n",
      "[Open3D INFO] WebRTCWindowSystem: HTTP handshake server disabled.\n",
      "[Open3D INFO] Resetting default logger to print to terminal.\n"
     ]
    }
   ],
   "source": [
    "import os\n",
    "from os.path import join as opj\n",
    "import numpy as np\n",
    "\n",
    "import open3d as o3d\n",
    "from open3d.web_visualizer import draw\n",
    "\n",
    "from utils import *\n",
    "from dataset import *"
   ]
  },
  {
   "cell_type": "code",
   "execution_count": 2,
   "metadata": {},
   "outputs": [
    {
     "name": "stdout",
     "output_type": "stream",
     "text": [
      "Loaded dataset with 16082 training samples and 2285 validation samples\n"
     ]
    }
   ],
   "source": [
    "# set_random_seed(0)\n",
    "\n",
    "data = dict(\n",
    "    data_root='data_root',\n",
    "    partial=False,\n",
    "    category=['grasp', 'contain', 'lift', 'openable', 'layable', 'sittable',\n",
    "              'support', 'wrap_grasp', 'pourable', 'move', 'displaY', 'pushable', 'pull',\n",
    "              'listen', 'wear', 'press', 'cut', 'stab']\n",
    ")\n",
    "\n",
    "data_root = data['data_root']\n",
    "partial = data['partial']\n",
    "aff_train_set = AffordNetDataset(data_root, 'train', partial=partial)\n",
    "aff_val_set = AffordNetDataset(data_root, 'val', partial=partial)\n",
    "print(\"Loaded dataset with {} training samples and {} validation samples\".format(len(aff_train_set), len(aff_val_set)))\n"
   ]
  },
  {
   "cell_type": "code",
   "execution_count": 9,
   "metadata": {},
   "outputs": [],
   "source": [
    "classes_of_interest = ['Knife', 'Bag', 'Bottle', 'Scissors', 'Mug', 'Earphone', 'Hat']\n",
    "# pick a random datapoint belonging to a class of interest\n",
    "while(1):\n",
    "    rand_index = np.random.randint(0, len(aff_train_set.all_data))#9532\n",
    "    data_temp = aff_train_set.all_data[rand_index]\n",
    "    if data_temp['semantic class'] in classes_of_interest:\n",
    "        print(\"Chosen random index: \", rand_index)\n",
    "        break\n",
    "\n",
    "# # pick a specific shape\n",
    "# for item in aff_train_set.all_data:\n",
    "#     if item['shape_id'] == 'fa8124cce25881004fcdbc2114c724fa':\n",
    "#         data_temp = item\n",
    "#         break"
   ]
  },
  {
   "cell_type": "code",
   "execution_count": 10,
   "metadata": {},
   "outputs": [
    {
     "name": "stdout",
     "output_type": "stream",
     "text": [
      "Shape id  fa8124cce25881004fcdbc2114c724fa \n",
      "Semantic class:  Hat\n",
      "All affordances:  ['grasp', 'contain', 'lift', 'openable', 'layable', 'sittable', 'support', 'wrap_grasp', 'pourable', 'move', 'displaY', 'pushable', 'pull', 'listen', 'wear', 'press', 'cut', 'stab']\n",
      "Num affordances:  18\n"
     ]
    }
   ],
   "source": [
    "print(\"Shape id \", data_temp['shape_id'], \"\\nSemantic class: \", data_temp['semantic class'])\n",
    "print(\"All affordances: \", data_temp[\"affordance\"])\n",
    "print(\"Num affordances: \", len(data_temp[\"affordance\"]))"
   ]
  },
  {
   "cell_type": "code",
   "execution_count": 11,
   "metadata": {},
   "outputs": [
    {
     "name": "stdout",
     "output_type": "stream",
     "text": [
      "Drawing pcd with 2048 points\n",
      "[Open3D INFO] Window window_5 created.\n"
     ]
    },
    {
     "data": {
      "application/vnd.jupyter.widget-view+json": {
       "model_id": "1ebf86204f5b48468bdb186c0873a818",
       "version_major": 2,
       "version_minor": 0
      },
      "text/plain": [
       "WebVisualizer(window_uid='window_5')"
      ]
     },
     "metadata": {},
     "output_type": "display_data"
    },
    {
     "name": "stdout",
     "output_type": "stream",
     "text": [
      "[Open3D INFO] [Called HTTP API (custom handshake)] /api/getIceServers\n",
      "[Open3D INFO] [Called HTTP API (custom handshake)] /api/call\n",
      "[Open3D INFO] [Called HTTP API (custom handshake)] /api/addIceCandidate\n",
      "[Open3D INFO] DataChannelObserver::OnStateChange label: ServerDataChannel, state: open, peerid: 0.8558459078223097\n",
      "[Open3D INFO] DataChannelObserver::OnStateChange label: ClientDataChannel, state: open, peerid: 0.8558459078223097\n",
      "[Open3D INFO] Sending init frames to window_5.\n",
      "[Open3D INFO] [Called HTTP API (custom handshake)] /api/addIceCandidate\n",
      "[Open3D INFO] [Called HTTP API (custom handshake)] /api/addIceCandidate\n",
      "[Open3D INFO] [Called HTTP API (custom handshake)] /api/addIceCandidate\n",
      "[Open3D INFO] [Called HTTP API (custom handshake)] /api/addIceCandidate\n",
      "[Open3D INFO] [Called HTTP API (custom handshake)] /api/addIceCandidate\n",
      "[Open3D INFO] [Called HTTP API (custom handshake)] /api/getIceCandidate\n"
     ]
    }
   ],
   "source": [
    "pcl = data_temp['data_info']['coordinate']\n",
    "# Viz pcl with o3d\n",
    "pcd = o3d.geometry.PointCloud()\n",
    "pcd.points = o3d.utility.Vector3dVector(pcl)\n",
    "# color black\n",
    "pcd.paint_uniform_color([0, 0, 0])\n",
    "# viz in jupyter nb\n",
    "print(\"Drawing pcd with\", len(pcl), \"points\")\n",
    "draw(pcd)"
   ]
  },
  {
   "cell_type": "code",
   "execution_count": 12,
   "metadata": {},
   "outputs": [
    {
     "name": "stdout",
     "output_type": "stream",
     "text": [
      "Label:  grasp  Score:  220.94138\n",
      "Label:  contain  Score:  0.0\n",
      "Label:  lift  Score:  0.0\n",
      "Label:  openable  Score:  0.0\n",
      "Label:  layable  Score:  0.0\n",
      "Label:  sittable  Score:  0.0\n",
      "Label:  support  Score:  0.0\n",
      "Label:  wrap_grasp  Score:  0.0\n",
      "Label:  pourable  Score:  0.0\n",
      "Label:  move  Score:  0.0\n",
      "Label:  displaY  Score:  0.0\n",
      "Label:  pushable  Score:  0.0\n",
      "Label:  pull  Score:  0.0\n",
      "Label:  listen  Score:  0.0\n",
      "Label:  wear  Score:  272.82758\n",
      "Label:  press  Score:  0.0\n",
      "Label:  cut  Score:  0.0\n",
      "Label:  stab  Score:  0.0\n"
     ]
    }
   ],
   "source": [
    "# get pcls of all labels\n",
    "labels_list = []\n",
    "scores_list = []\n",
    "for key in data_temp['data_info']['label'].keys():\n",
    "    labels = data_temp['data_info']['label'][key]\n",
    "    scores = labels.sum()\n",
    "    print(\"Label: \", key, \" Score: \", scores)\n",
    "    labels_list.append(labels)\n",
    "    scores_list.append(scores)"
   ]
  },
  {
   "cell_type": "code",
   "execution_count": 13,
   "metadata": {},
   "outputs": [
    {
     "name": "stdout",
     "output_type": "stream",
     "text": [
      "Best labels: \n",
      "wear\n",
      "grasp\n",
      "wrap_grasp\n",
      "contain\n",
      "Best scores:  [272.82758 220.94138   0.        0.     ]\n"
     ]
    }
   ],
   "source": [
    "labels_list = np.array(labels_list)\n",
    "scores_list = np.array(scores_list)\n",
    "# Get max 4 labels and viz\n",
    "best_score_ids = np.argsort(scores_list)[-4:]\n",
    "# reverse order\n",
    "best_score_ids = best_score_ids[::-1]\n",
    "print(\"Best labels: \")\n",
    "for best_score_id in best_score_ids:\n",
    "    print(list(data_temp['data_info']['label'].keys())[best_score_id])\n",
    "print(\"Best scores: \", scores_list[best_score_ids])"
   ]
  },
  {
   "cell_type": "code",
   "execution_count": null,
   "metadata": {},
   "outputs": [
    {
     "name": "stdout",
     "output_type": "stream",
     "text": [
      "Label 0:  wear\n",
      "[Open3D INFO] Window window_6 created.\n"
     ]
    },
    {
     "data": {
      "application/vnd.jupyter.widget-view+json": {
       "model_id": "944c33a1aba0440b877987c80faa1d5b",
       "version_major": 2,
       "version_minor": 0
      },
      "text/plain": [
       "WebVisualizer(window_uid='window_6')"
      ]
     },
     "metadata": {},
     "output_type": "display_data"
    },
    {
     "name": "stdout",
     "output_type": "stream",
     "text": [
      "Label 1:  grasp\n",
      "[Open3D INFO] Window window_7 created.\n"
     ]
    },
    {
     "data": {
      "application/vnd.jupyter.widget-view+json": {
       "model_id": "a65ecf3786fb47a38217b6111a6770d8",
       "version_major": 2,
       "version_minor": 0
      },
      "text/plain": [
       "WebVisualizer(window_uid='window_7')"
      ]
     },
     "metadata": {},
     "output_type": "display_data"
    },
    {
     "name": "stdout",
     "output_type": "stream",
     "text": [
      "Label 2:  wrap_grasp\n",
      "[Open3D INFO] Window window_8 created.\n"
     ]
    },
    {
     "data": {
      "application/vnd.jupyter.widget-view+json": {
       "model_id": "5c1ddc61879c4963a984cbb10fae590d",
       "version_major": 2,
       "version_minor": 0
      },
      "text/plain": [
       "WebVisualizer(window_uid='window_8')"
      ]
     },
     "metadata": {},
     "output_type": "display_data"
    },
    {
     "name": "stdout",
     "output_type": "stream",
     "text": [
      "Label 3:  contain\n",
      "[Open3D INFO] Window window_9 created.\n"
     ]
    },
    {
     "data": {
      "application/vnd.jupyter.widget-view+json": {
       "model_id": "dec3fca8f25c42c382ea9687db1abb8e",
       "version_major": 2,
       "version_minor": 0
      },
      "text/plain": [
       "WebVisualizer(window_uid='window_9')"
      ]
     },
     "metadata": {},
     "output_type": "display_data"
    },
    {
     "name": "stdout",
     "output_type": "stream",
     "text": [
      "[Open3D INFO] [Called HTTP API (custom handshake)] /api/getIceServers\n",
      "[Open3D INFO] [Called HTTP API (custom handshake)] /api/getIceServers\n",
      "[Open3D INFO] [Called HTTP API (custom handshake)] /api/getIceServers\n",
      "[Open3D INFO] [Called HTTP API (custom handshake)] /api/getIceServers\n",
      "[Open3D INFO] [Called HTTP API (custom handshake)] /api/call\n",
      "[Open3D INFO] [Called HTTP API (custom handshake)] /api/call\n",
      "[Open3D INFO] [Called HTTP API (custom handshake)] /api/call\n",
      "[Open3D INFO] [Called HTTP API (custom handshake)] /api/call\n",
      "[Open3D INFO] [Called HTTP API (custom handshake)] /api/addIceCandidate\n",
      "[Open3D INFO] [Called HTTP API (custom handshake)] /api/addIceCandidate\n",
      "[Open3D INFO] DataChannelObserver::OnStateChange label: ServerDataChannel, state: open, peerid: 0.6691501978407153\n",
      "[Open3D INFO] DataChannelObserver::OnStateChange label: ServerDataChannel, state: open, peerid: 0.10353951660444305\n",
      "[Open3D INFO] DataChannelObserver::OnStateChange label: ClientDataChannel, state: open, peerid: 0.6691501978407153\n",
      "[Open3D INFO] Sending init frames to window_6.\n",
      "[Open3D INFO] [Called HTTP API (custom handshake)] /api/addIceCandidate\n",
      "[Open3D INFO] [Called HTTP API (custom handshake)] /api/addIceCandidate\n",
      "[Open3D INFO] [Called HTTP API (custom handshake)] /api/addIceCandidate\n",
      "[Open3D INFO] [Called HTTP API (custom handshake)] /api/addIceCandidate\n",
      "[Open3D INFO] [Called HTTP API (custom handshake)] /api/addIceCandidate\n",
      "[Open3D INFO] [Called HTTP API (custom handshake)] /api/getIceCandidate\n",
      "[Open3D INFO] [Called HTTP API (custom handshake)] /api/addIceCandidate\n",
      "[Open3D INFO] DataChannelObserver::OnStateChange label: ClientDataChannel, state: open, peerid: 0.10353951660444305\n",
      "[Open3D INFO] Sending init frames to window_7.\n",
      "[Open3D INFO] [Called HTTP API (custom handshake)] /api/addIceCandidate\n",
      "[Open3D INFO] [Called HTTP API (custom handshake)] /api/addIceCandidate\n",
      "[Open3D INFO] [Called HTTP API (custom handshake)] /api/addIceCandidate\n",
      "[Open3D INFO] [Called HTTP API (custom handshake)] /api/addIceCandidate\n",
      "[Open3D INFO] [Called HTTP API (custom handshake)] /api/getIceCandidate\n",
      "[Open3D INFO] [Called HTTP API (custom handshake)] /api/addIceCandidate\n",
      "[Open3D INFO] DataChannelObserver::OnStateChange label: ServerDataChannel, state: open, peerid: 0.7670219492122905\n",
      "[Open3D INFO] DataChannelObserver::OnStateChange label: ClientDataChannel, state: open, peerid: 0.7670219492122905\n",
      "[Open3D INFO] Sending init frames to window_8.\n",
      "[Open3D INFO] [Called HTTP API (custom handshake)] /api/addIceCandidate\n",
      "[Open3D INFO] DataChannelObserver::OnStateChange label: ServerDataChannel, state: open, peerid: 0.14743053698557107\n",
      "[Open3D INFO] DataChannelObserver::OnStateChange label: ClientDataChannel, state: open, peerid: 0.14743053698557107\n",
      "[Open3D INFO] Sending init frames to window_9.\n",
      "[Open3D INFO] [Called HTTP API (custom handshake)] /api/addIceCandidate\n",
      "[Open3D INFO] [Called HTTP API (custom handshake)] /api/addIceCandidate\n",
      "[Open3D INFO] [Called HTTP API (custom handshake)] /api/addIceCandidate\n",
      "[Open3D INFO] [Called HTTP API (custom handshake)] /api/addIceCandidate\n",
      "[Open3D INFO] [Called HTTP API (custom handshake)] /api/addIceCandidate\n",
      "[Open3D INFO] [Called HTTP API (custom handshake)] /api/getIceCandidate\n",
      "[Open3D INFO] [Called HTTP API (custom handshake)] /api/addIceCandidate\n",
      "[Open3D INFO] [Called HTTP API (custom handshake)] /api/addIceCandidate\n",
      "[Open3D INFO] [Called HTTP API (custom handshake)] /api/addIceCandidate\n",
      "[Open3D INFO] [Called HTTP API (custom handshake)] /api/addIceCandidate\n",
      "[Open3D INFO] [Called HTTP API (custom handshake)] /api/addIceCandidate\n",
      "[Open3D INFO] [Called HTTP API (custom handshake)] /api/getIceCandidate\n"
     ]
    }
   ],
   "source": [
    "pcd_0 = o3d.geometry.PointCloud()\n",
    "pcd_0.points = o3d.utility.Vector3dVector(pcl)\n",
    "pcd_0.paint_uniform_color([0, 0, 0])\n",
    "np.asarray(pcd_0.colors)[labels_list[best_score_ids[0]].squeeze() > 0] = [1, 0, 0]\n",
    "print(\"Label 0: \", list(data_temp['data_info']['label'].keys())[best_score_ids[0]])\n",
    "draw([pcd_0], title=\"Label: \" + list(data_temp['data_info']['label'].keys())[best_score_ids[0]])\n",
    "\n",
    "pcd_1 = o3d.geometry.PointCloud()\n",
    "pcd_1.points = o3d.utility.Vector3dVector(pcl)\n",
    "pcd_1.paint_uniform_color([0, 0, 0])\n",
    "np.asarray(pcd_1.colors)[labels_list[best_score_ids[1]].squeeze() > 0] = [0, 1, 0]\n",
    "print(\"Label 1: \", list(data_temp['data_info']['label'].keys())[best_score_ids[1]])\n",
    "draw([pcd_1], title=\"Label: \" + list(data_temp['data_info']['label'].keys())[best_score_ids[1]])\n",
    "\n",
    "pcd_2 = o3d.geometry.PointCloud()\n",
    "pcd_2.points = o3d.utility.Vector3dVector(pcl)\n",
    "pcd_2.paint_uniform_color([0, 0, 0])\n",
    "np.asarray(pcd_2.colors)[labels_list[best_score_ids[2]].squeeze() > 0] = [0, 0, 1]\n",
    "print(\"Label 2: \", list(data_temp['data_info']['label'].keys())[best_score_ids[2]])\n",
    "draw([pcd_2], title=\"Label: \" + list(data_temp['data_info']['label'].keys())[best_score_ids[2]])\n",
    "\n",
    "pcd_3 = o3d.geometry.PointCloud()\n",
    "pcd_3.points = o3d.utility.Vector3dVector(pcl)\n",
    "pcd_3.paint_uniform_color([0, 0, 0])\n",
    "np.asarray(pcd_3.colors)[labels_list[best_score_ids[3]].squeeze() > 0] = [1, 1, 0]\n",
    "print(\"Label 3: \", list(data_temp['data_info']['label'].keys())[best_score_ids[3]])\n",
    "draw([pcd_3], title=\"Label: \" + list(data_temp['data_info']['label'].keys())[best_score_ids[3]])"
   ]
  }
 ],
 "metadata": {
  "kernelspec": {
   "display_name": "Python 3 (ipykernel)",
   "language": "python",
   "name": "python3"
  },
  "language_info": {
   "codemirror_mode": {
    "name": "ipython",
    "version": 3
   },
   "file_extension": ".py",
   "mimetype": "text/x-python",
   "name": "python",
   "nbconvert_exporter": "python",
   "pygments_lexer": "ipython3",
   "version": "3.8.18"
  }
 },
 "nbformat": 4,
 "nbformat_minor": 2
}
