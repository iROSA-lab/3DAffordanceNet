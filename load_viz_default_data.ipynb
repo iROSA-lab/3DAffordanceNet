{
 "cells": [
  {
   "cell_type": "code",
   "execution_count": null,
   "metadata": {},
   "outputs": [],
   "source": [
    "import os\n",
    "from os.path import join as opj\n",
    "import numpy as np\n",
    "\n",
    "import open3d as o3d\n",
    "from open3d.web_visualizer import draw\n",
    "\n",
    "from utils import *\n",
    "from dataset import *"
   ]
  },
  {
   "cell_type": "code",
   "execution_count": null,
   "metadata": {},
   "outputs": [],
   "source": [
    "# set_random_seed(0)\n",
    "\n",
    "data = dict(\n",
    "    data_root='data_root',\n",
    "    partial=False,\n",
    "    category=['grasp', 'contain', 'lift', 'openable', 'layable', 'sittable',\n",
    "              'support', 'wrap_grasp', 'pourable', 'move', 'displaY', 'pushable', 'pull',\n",
    "              'listen', 'wear', 'press', 'cut', 'stab']\n",
    ")\n",
    "\n",
    "data_root = data['data_root']\n",
    "partial = data['partial']\n",
    "aff_train_set = AffordNetDataset(data_root, 'train', partial=partial)\n",
    "aff_val_set = AffordNetDataset(data_root, 'val', partial=partial)\n",
    "print(\"Loaded dataset with {} training samples and {} validation samples\".format(len(aff_train_set), len(aff_val_set)))\n"
   ]
  },
  {
   "cell_type": "code",
   "execution_count": null,
   "metadata": {},
   "outputs": [],
   "source": [
    "classes_of_interest = ['Knife', 'Bag', 'Bottle', 'Scissors', 'Mug', 'Earphone', 'Hat']\n",
    "# pick a random datapoint belonging to a class of interest\n",
    "while(1):\n",
    "    rand_index = np.random.randint(0, len(aff_train_set.all_data))#9532\n",
    "    data_temp = aff_train_set.all_data[rand_index]\n",
    "    if data_temp['semantic class'] in classes_of_interest:\n",
    "        print(\"Chosen random index: \", rand_index)\n",
    "        break"
   ]
  },
  {
   "cell_type": "code",
   "execution_count": null,
   "metadata": {},
   "outputs": [],
   "source": [
    "print(\"Shape id \", data_temp['shape_id'], \"\\nSemantic class: \", data_temp['semantic class'])\n",
    "print(\"All affordances: \", data_temp[\"affordance\"])\n",
    "print(\"Num affordances: \", len(data_temp[\"affordance\"]))"
   ]
  },
  {
   "cell_type": "code",
   "execution_count": null,
   "metadata": {},
   "outputs": [],
   "source": [
    "pcl = data_temp['data_info']['coordinate']\n",
    "# Viz pcl with o3d\n",
    "pcd = o3d.geometry.PointCloud()\n",
    "pcd.points = o3d.utility.Vector3dVector(pcl)\n",
    "# color black\n",
    "pcd.paint_uniform_color([0, 0, 0])\n",
    "# viz in jupyter nb\n",
    "print(\"Drawing pcd with\", len(pcl), \"points\")\n",
    "draw(pcd)"
   ]
  },
  {
   "cell_type": "code",
   "execution_count": null,
   "metadata": {},
   "outputs": [],
   "source": [
    "# get pcls of all labels\n",
    "labels_list = []\n",
    "scores_list = []\n",
    "for key in data_temp['data_info']['label'].keys():\n",
    "    labels = data_temp['data_info']['label'][key]\n",
    "    scores = labels.sum()\n",
    "    print(\"Label: \", key, \" Score: \", scores)\n",
    "    labels_list.append(labels)\n",
    "    scores_list.append(scores)"
   ]
  },
  {
   "cell_type": "code",
   "execution_count": null,
   "metadata": {},
   "outputs": [],
   "source": [
    "labels_list = np.array(labels_list)\n",
    "scores_list = np.array(scores_list)\n",
    "# Get max 4 labels and viz\n",
    "best_score_ids = np.argsort(scores_list)[-4:]\n",
    "# reverse order\n",
    "best_score_ids = best_score_ids[::-1]\n",
    "print(\"Best labels: \")\n",
    "for best_score_id in best_score_ids:\n",
    "    print(list(data_temp['data_info']['label'].keys())[best_score_id])\n",
    "print(\"Best scores: \", scores_list[best_score_ids])"
   ]
  },
  {
   "cell_type": "code",
   "execution_count": null,
   "metadata": {},
   "outputs": [],
   "source": [
    "pcd_0 = o3d.geometry.PointCloud()\n",
    "pcd_0.points = o3d.utility.Vector3dVector(pcl)\n",
    "pcd_0.paint_uniform_color([0, 0, 0])\n",
    "np.asarray(pcd_0.colors)[labels_list[best_score_ids[0]].squeeze() > 0] = [1, 0, 0]\n",
    "print(\"Label 0: \", list(data_temp['data_info']['label'].keys())[best_score_ids[0]])\n",
    "draw([pcd_0], title=\"Label: \" + list(data_temp['data_info']['label'].keys())[best_score_ids[0]])\n",
    "\n",
    "pcd_1 = o3d.geometry.PointCloud()\n",
    "pcd_1.points = o3d.utility.Vector3dVector(pcl)\n",
    "pcd_1.paint_uniform_color([0, 0, 0])\n",
    "np.asarray(pcd_1.colors)[labels_list[best_score_ids[1]].squeeze() > 0] = [0, 1, 0]\n",
    "print(\"Label 1: \", list(data_temp['data_info']['label'].keys())[best_score_ids[1]])\n",
    "draw([pcd_1], title=\"Label: \" + list(data_temp['data_info']['label'].keys())[best_score_ids[1]])\n",
    "\n",
    "pcd_2 = o3d.geometry.PointCloud()\n",
    "pcd_2.points = o3d.utility.Vector3dVector(pcl)\n",
    "pcd_2.paint_uniform_color([0, 0, 0])\n",
    "np.asarray(pcd_2.colors)[labels_list[best_score_ids[2]].squeeze() > 0] = [0, 0, 1]\n",
    "print(\"Label 2: \", list(data_temp['data_info']['label'].keys())[best_score_ids[2]])\n",
    "draw([pcd_2], title=\"Label: \" + list(data_temp['data_info']['label'].keys())[best_score_ids[2]])\n",
    "\n",
    "pcd_3 = o3d.geometry.PointCloud()\n",
    "pcd_3.points = o3d.utility.Vector3dVector(pcl)\n",
    "pcd_3.paint_uniform_color([0, 0, 0])\n",
    "np.asarray(pcd_3.colors)[labels_list[best_score_ids[3]].squeeze() > 0] = [1, 1, 0]\n",
    "print(\"Label 3: \", list(data_temp['data_info']['label'].keys())[best_score_ids[3]])\n",
    "draw([pcd_3], title=\"Label: \" + list(data_temp['data_info']['label'].keys())[best_score_ids[3]])"
   ]
  },
  {
   "cell_type": "code",
   "execution_count": null,
   "metadata": {},
   "outputs": [],
   "source": []
  }
 ],
 "metadata": {
  "kernelspec": {
   "display_name": "Python 3 (ipykernel)",
   "language": "python",
   "name": "python3"
  },
  "language_info": {
   "codemirror_mode": {
    "name": "ipython",
    "version": 3
   },
   "file_extension": ".py",
   "mimetype": "text/x-python",
   "name": "python",
   "nbconvert_exporter": "python",
   "pygments_lexer": "ipython3",
   "version": "3.8.18"
  }
 },
 "nbformat": 4,
 "nbformat_minor": 2
}
