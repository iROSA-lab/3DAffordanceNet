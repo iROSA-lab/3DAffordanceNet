{
 "cells": [
  {
   "cell_type": "code",
   "execution_count": null,
   "metadata": {},
   "outputs": [],
   "source": [
    "import os\n",
    "from os.path import join as opj\n",
    "import numpy as np\n",
    "import random\n",
    "\n",
    "import open3d as o3d\n",
    "from open3d.web_visualizer import draw\n",
    "import matplotlib.pyplot as plt\n",
    "import trimesh\n",
    "\n",
    "from utils import *\n",
    "from dataset import *\n",
    "\n",
    "import pickle as pkl\n",
    "data_root = 'data_root/3DGraspAff'\n",
    "new_aff_path = opj(data_root, 'anntd_remapped_full_shape_test_data.pkl')\n",
    "with open(new_aff_path, 'rb') as f:\n",
    "    new_aff_dataset = pkl.load(f)\n",
    "print(\"Loaded dataset with {} objects\".format(new_aff_dataset['num_objects']))\n",
    "print(\"Num of semantic classes: \", len(new_aff_dataset[\"semantic_classes\"]))\n",
    "print(\"Semantic classes: \", new_aff_dataset[\"semantic_classes\"])\n",
    "print(\"Num of affordances: \", len(new_aff_dataset[\"affordance_classes\"]))\n",
    "print(\"All affordances: \", new_aff_dataset[\"affordance_classes\"])"
   ]
  },
  {
   "cell_type": "code",
   "execution_count": null,
   "metadata": {},
   "outputs": [],
   "source": [
    "# Save the meshes needed for the remapped dataset\n",
    "from utils.partnet_utils import class_to_shapenet_dir, shapeid_to_partnet_dir\n",
    "SHAPENET_PATH = '/home/sjauhri/IAS_WS/ShapeNetCore.v2'\n",
    "PARTNET_PATH  = '/home/sjauhri/IAS_WS/PartNet/data_v0'\n",
    "\n",
    "SHAPENET_SAVE_PATH = data_root + '/obj_meshes/test/ShapeNet'\n",
    "PARTNET_SAVE_PATH  = data_root + '/obj_meshes/test/PartNet_full'\n",
    "\n",
    "shapeid_to_partnet_dir_dict = dict()\n",
    "# loop through the dataset\n",
    "for sem_classs in new_aff_dataset['semantic_classes']:\n",
    "    for shape_id in new_aff_dataset['data'][sem_classs].keys():\n",
    "        \n",
    "        try:\n",
    "            obj_path = opj(SHAPENET_PATH, class_to_shapenet_dir[sem_classs.lower()],\n",
    "                            shape_id, 'models', 'model_normalized.obj')\n",
    "            # try load with open3d\n",
    "            obj_mesh = o3d.io.read_triangle_mesh(obj_path)\n",
    "            # TODO: load the texture too\n",
    "            # texture_path = opj(SHAPENET_PATH, class_to_shapenet_dir[sem_classs.lower()],\n",
    "            #                     shape_id, 'models', 'model_normalized.mtl')\n",
    "\n",
    "            # save\n",
    "            if not os.path.exists(opj(SHAPENET_SAVE_PATH, shape_id)):\n",
    "                os.makedirs(opj(SHAPENET_SAVE_PATH, shape_id))\n",
    "            save_path = opj(SHAPENET_SAVE_PATH, shape_id, 'model_normalized.obj')\n",
    "            o3d.io.write_triangle_mesh(save_path, obj_mesh, write_triangle_uvs=True)\n",
    "\n",
    "        except:\n",
    "            print(\"ShapeNet category not found, try PartNet?\")\n",
    "            partnet_anno_id = shapeid_to_partnet_dir[shape_id]\n",
    "            meshes_path = opj(PARTNET_PATH, partnet_anno_id, 'objs')\n",
    "            # loop through all meshes in the folder and add to open3d object\n",
    "            obj_mesh = o3d.geometry.TriangleMesh()\n",
    "            for mesh in os.listdir(meshes_path):\n",
    "                # optional: only load files with 'original' in the name\n",
    "                mesh_path = opj(meshes_path, mesh)\n",
    "                mesh = o3d.io.read_triangle_mesh(mesh_path)\n",
    "                obj_mesh += mesh\n",
    "            \n",
    "            # save\n",
    "            if not os.path.exists(opj(PARTNET_SAVE_PATH, partnet_anno_id)):\n",
    "                os.makedirs(opj(PARTNET_SAVE_PATH, partnet_anno_id))\n",
    "            save_path = opj(PARTNET_SAVE_PATH, partnet_anno_id, 'model_normalized.obj')\n",
    "            o3d.io.write_triangle_mesh(save_path, obj_mesh, write_triangle_uvs=True)\n",
    "\n",
    "        # viz\n",
    "        draw([obj_mesh])\n",
    "        break"
   ]
  },
  {
   "cell_type": "code",
   "execution_count": 8,
   "metadata": {},
   "outputs": [
    {
     "name": "stderr",
     "output_type": "stream",
     "text": [
      "[031:775][16747] (stun_port.cc:96): Binding request timed out from 130.83.164.x:49552 (enp5s0)\n"
     ]
    }
   ],
   "source": [
    "# mesh_path = '/home/sjauhri/IAS_WS/potato-net/affordance/3DAffordanceNet/data_root/3DGraspAff/obj_meshes/test/PartNet_full/8770/model_normalized.obj'\n",
    "# new_mesh = o3d.io.read_triangle_mesh(mesh_path)\n",
    "# draw([new_mesh])"
   ]
  }
 ],
 "metadata": {
  "kernelspec": {
   "display_name": "Python 3 (ipykernel)",
   "language": "python",
   "name": "python3"
  },
  "language_info": {
   "codemirror_mode": {
    "name": "ipython",
    "version": 3
   },
   "file_extension": ".py",
   "mimetype": "text/x-python",
   "name": "python",
   "nbconvert_exporter": "python",
   "pygments_lexer": "ipython3",
   "version": "3.8.18"
  }
 },
 "nbformat": 4,
 "nbformat_minor": 2
}
