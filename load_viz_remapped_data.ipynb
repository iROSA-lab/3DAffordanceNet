{
 "cells": [
  {
   "cell_type": "code",
   "execution_count": 1,
   "metadata": {},
   "outputs": [
    {
     "name": "stdout",
     "output_type": "stream",
     "text": [
      "Jupyter environment detected. Enabling Open3D WebVisualizer.\n",
      "[Open3D INFO] WebRTC GUI backend enabled.\n",
      "[Open3D INFO] WebRTCWindowSystem: HTTP handshake server disabled.\n",
      "[Open3D INFO] Resetting default logger to print to terminal.\n"
     ]
    }
   ],
   "source": [
    "import os\n",
    "from os.path import join as opj\n",
    "import numpy as np\n",
    "import random\n",
    "\n",
    "import open3d as o3d\n",
    "from open3d.web_visualizer import draw\n",
    "import matplotlib.pyplot as plt\n",
    "import trimesh\n",
    "\n",
    "from utils import *\n",
    "from dataset import *"
   ]
  },
  {
   "cell_type": "code",
   "execution_count": 2,
   "metadata": {},
   "outputs": [
    {
     "name": "stdout",
     "output_type": "stream",
     "text": [
      "Loaded dataset with 1096 objects\n",
      "Num of semantic classes:  7\n",
      "Semantic classes:  ['Knife', 'Bag', 'Bottle', 'Scissors', 'Mug', 'Earphone', 'Hat']\n",
      "Num of affordances:  7\n",
      "All affordances:  ['handover', 'cut', 'stab', 'lift', 'wrap', 'pour', 'wear']\n"
     ]
    }
   ],
   "source": [
    "import pickle as pkl\n",
    "data_root = 'data_root'\n",
    "new_aff_path = opj(data_root, 'anntd_remapped_full_shape_train_data.pkl')\n",
    "with open(new_aff_path, 'rb') as f:\n",
    "    new_aff_dataset = pkl.load(f)\n",
    "print(\"Loaded dataset with {} objects\".format(new_aff_dataset['num_objects']))\n",
    "print(\"Num of semantic classes: \", len(new_aff_dataset[\"semantic_classes\"]))\n",
    "print(\"Semantic classes: \", new_aff_dataset[\"semantic_classes\"])\n",
    "print(\"Num of affordances: \", len(new_aff_dataset[\"affordance_classes\"]))\n",
    "print(\"All affordances: \", new_aff_dataset[\"affordance_classes\"])"
   ]
  },
  {
   "cell_type": "code",
   "execution_count": 3,
   "metadata": {},
   "outputs": [],
   "source": [
    "## pick a random datapoint\n",
    "# set_random_seed(0)\n",
    "# pick a random sem class\n",
    "sem_class = random.choice(new_aff_dataset['semantic_classes']) # 'Scissors'\n",
    "# pick a random shape id\n",
    "shape_id = random.choice(list(new_aff_dataset['data'][sem_class].keys())) # '297c4f8e6d89d0b33d35434498261b'\n",
    "datapoint = new_aff_dataset['data'][sem_class][shape_id]"
   ]
  },
  {
   "cell_type": "code",
   "execution_count": 4,
   "metadata": {},
   "outputs": [
    {
     "name": "stdout",
     "output_type": "stream",
     "text": [
      "Shape id  dc52131684ed9cbbfe4a8257a424ee86 \n",
      "Semantic class:  Bag\n",
      "Drawing pcd with 2048 points\n",
      "[Open3D INFO] Window window_0 created.\n",
      "[Open3D INFO] EGL headless mode enabled.\n",
      "[Open3D INFO] ICE servers: [\"stun:stun.l.google.com:19302\", \"turn:user:password@34.69.27.100:3478\", \"turn:user:password@34.69.27.100:3478?transport=tcp\"]\n",
      "FEngine (64 bits) created at 0x7fef7983f010 (threading is enabled)\n",
      "[Open3D INFO] Set WEBRTC_STUN_SERVER environment variable add a customized WebRTC STUN server.\n",
      "[Open3D INFO] WebRTC Jupyter handshake mode enabled.\n",
      "EGL(1.5)\n",
      "OpenGL(4.1)\n"
     ]
    },
    {
     "data": {
      "application/vnd.jupyter.widget-view+json": {
       "model_id": "e903645134b142d8b585fddd1ab61c63",
       "version_major": 2,
       "version_minor": 0
      },
      "text/plain": [
       "WebVisualizer(window_uid='window_0')"
      ]
     },
     "metadata": {},
     "output_type": "display_data"
    },
    {
     "name": "stdout",
     "output_type": "stream",
     "text": [
      "[Open3D INFO] [Called HTTP API (custom handshake)] /api/getIceServers\n",
      "[Open3D INFO] [Called HTTP API (custom handshake)] /api/call\n",
      "[Open3D INFO] [Called HTTP API (custom handshake)] /api/addIceCandidate\n",
      "[Open3D INFO] [Called HTTP API (custom handshake)] /api/addIceCandidate\n",
      "[Open3D INFO] [Called HTTP API (custom handshake)] /api/addIceCandidate\n",
      "[Open3D INFO] [Called HTTP API (custom handshake)] /api/addIceCandidate\n",
      "[Open3D INFO] [Called HTTP API (custom handshake)] /api/addIceCandidate\n",
      "[Open3D INFO] [Called HTTP API (custom handshake)] /api/addIceCandidate\n",
      "[Open3D INFO] [Called HTTP API (custom handshake)] /api/addIceCandidate\n",
      "[Open3D INFO] [Called HTTP API (custom handshake)] /api/addIceCandidate\n",
      "[Open3D INFO] [Called HTTP API (custom handshake)] /api/addIceCandidate\n",
      "[Open3D INFO] [Called HTTP API (custom handshake)] /api/addIceCandidate\n",
      "[Open3D INFO] [Called HTTP API (custom handshake)] /api/addIceCandidate\n",
      "[Open3D INFO] [Called HTTP API (custom handshake)] /api/addIceCandidate\n",
      "[Open3D INFO] [Called HTTP API (custom handshake)] /api/getIceCandidate\n"
     ]
    }
   ],
   "source": [
    "print(\"Shape id \", shape_id, \"\\nSemantic class: \", sem_class)\n",
    "pcl = datapoint['coordinates']\n",
    "# Viz pcl with o3d\n",
    "pcd = o3d.geometry.PointCloud()\n",
    "pcd.points = o3d.utility.Vector3dVector(pcl)\n",
    "# color black\n",
    "pcd.paint_uniform_color([0, 0, 0])\n",
    "# viz in jupyter nb\n",
    "print(\"Drawing pcd with\", len(pcl), \"points\")\n",
    "draw(pcd)"
   ]
  },
  {
   "cell_type": "code",
   "execution_count": 5,
   "metadata": {},
   "outputs": [
    {
     "name": "stdout",
     "output_type": "stream",
     "text": [
      "Label:  lift  Score:  60.89209\n",
      "Label 0:  lift\n",
      "[Open3D INFO] Window window_1 created.\n"
     ]
    },
    {
     "data": {
      "application/vnd.jupyter.widget-view+json": {
       "model_id": "1ff0d5b6d69e449ab08b2916d5fd98d4",
       "version_major": 2,
       "version_minor": 0
      },
      "text/plain": [
       "WebVisualizer(window_uid='window_1')"
      ]
     },
     "metadata": {},
     "output_type": "display_data"
    },
    {
     "name": "stdout",
     "output_type": "stream",
     "text": [
      "Label:  handover  Score:  310.98114\n",
      "Label 0:  handover\n",
      "[Open3D INFO] Window window_2 created.\n"
     ]
    },
    {
     "data": {
      "application/vnd.jupyter.widget-view+json": {
       "model_id": "11d719ac32ef47689c6522be28fd62fa",
       "version_major": 2,
       "version_minor": 0
      },
      "text/plain": [
       "WebVisualizer(window_uid='window_2')"
      ]
     },
     "metadata": {},
     "output_type": "display_data"
    },
    {
     "name": "stdout",
     "output_type": "stream",
     "text": [
      "[Open3D INFO] [Called HTTP API (custom handshake)] /api/getIceServers\n",
      "[Open3D INFO] [Called HTTP API (custom handshake)] /api/getIceServers\n",
      "[Open3D INFO] [Called HTTP API (custom handshake)] /api/call\n",
      "[Open3D INFO] [Called HTTP API (custom handshake)] /api/call\n",
      "[Open3D INFO] [Called HTTP API (custom handshake)] /api/addIceCandidate\n",
      "[Open3D INFO] [Called HTTP API (custom handshake)] /api/addIceCandidate\n",
      "[Open3D INFO] [Called HTTP API (custom handshake)] /api/addIceCandidate\n",
      "[Open3D INFO] [Called HTTP API (custom handshake)] /api/addIceCandidate\n",
      "[Open3D INFO] [Called HTTP API (custom handshake)] /api/addIceCandidate\n",
      "[Open3D INFO] [Called HTTP API (custom handshake)] /api/addIceCandidate\n",
      "[Open3D INFO] [Called HTTP API (custom handshake)] /api/addIceCandidate\n",
      "[Open3D INFO] [Called HTTP API (custom handshake)] /api/addIceCandidate\n",
      "[Open3D INFO] [Called HTTP API (custom handshake)] /api/addIceCandidate\n",
      "[Open3D INFO] [Called HTTP API (custom handshake)] /api/addIceCandidate\n",
      "[Open3D INFO] [Called HTTP API (custom handshake)] /api/addIceCandidate\n",
      "[Open3D INFO] [Called HTTP API (custom handshake)] /api/addIceCandidate\n",
      "[Open3D INFO] [Called HTTP API (custom handshake)] /api/addIceCandidate\n",
      "[Open3D INFO] [Called HTTP API (custom handshake)] /api/getIceCandidate\n",
      "[Open3D INFO] [Called HTTP API (custom handshake)] /api/addIceCandidate\n",
      "[Open3D INFO] [Called HTTP API (custom handshake)] /api/addIceCandidate\n",
      "[Open3D INFO] [Called HTTP API (custom handshake)] /api/addIceCandidate\n",
      "[Open3D INFO] [Called HTTP API (custom handshake)] /api/addIceCandidate\n",
      "[Open3D INFO] [Called HTTP API (custom handshake)] /api/addIceCandidate\n",
      "[Open3D INFO] [Called HTTP API (custom handshake)] /api/addIceCandidate\n",
      "[Open3D INFO] [Called HTTP API (custom handshake)] /api/addIceCandidate\n",
      "[Open3D INFO] [Called HTTP API (custom handshake)] /api/addIceCandidate\n",
      "[Open3D INFO] [Called HTTP API (custom handshake)] /api/addIceCandidate\n",
      "[Open3D INFO] [Called HTTP API (custom handshake)] /api/addIceCandidate\n",
      "[Open3D INFO] [Called HTTP API (custom handshake)] /api/addIceCandidate\n",
      "[Open3D INFO] [Called HTTP API (custom handshake)] /api/getIceCandidate\n",
      "[Open3D INFO] DataChannelObserver::OnStateChange label: ServerDataChannel, state: open, peerid: 0.7893199205354422\n",
      "[Open3D INFO] DataChannelObserver::OnStateChange label: ClientDataChannel, state: open, peerid: 0.7893199205354422\n",
      "[Open3D INFO] Sending init frames to window_0.\n",
      "[Open3D INFO] DataChannelObserver::OnStateChange label: ServerDataChannel, state: open, peerid: 0.7650839186134488\n",
      "[Open3D INFO] DataChannelObserver::OnStateChange label: ServerDataChannel, state: open, peerid: 0.21448138316202603\n",
      "[Open3D INFO] DataChannelObserver::OnStateChange label: ClientDataChannel, state: open, peerid: 0.7650839186134488\n",
      "[Open3D INFO] Sending init frames to window_1.\n",
      "[Open3D INFO] DataChannelObserver::OnStateChange label: ClientDataChannel, state: open, peerid: 0.21448138316202603\n",
      "[Open3D INFO] Sending init frames to window_2.\n",
      "[Open3D INFO] DataChannelObserver::OnStateChange label: ServerDataChannel, state: closing, peerid: 0.21448138316202603\n",
      "[Open3D INFO] DataChannelObserver::OnStateChange label: ServerDataChannel, state: closed, peerid: 0.21448138316202603\n",
      "[Open3D INFO] DataChannelObserver::OnStateChange label: ClientDataChannel, state: closing, peerid: 0.21448138316202603\n",
      "[Open3D INFO] DataChannelObserver::OnStateChange label: ClientDataChannel, state: closed, peerid: 0.21448138316202603\n",
      "[Open3D INFO] DataChannelObserver::OnStateChange label: ServerDataChannel, state: closing, peerid: 0.7893199205354422\n",
      "[Open3D INFO] DataChannelObserver::OnStateChange label: ServerDataChannel, state: closed, peerid: 0.7893199205354422\n",
      "[Open3D INFO] DataChannelObserver::OnStateChange label: ClientDataChannel, state: closing, peerid: 0.7893199205354422\n",
      "[Open3D INFO] DataChannelObserver::OnStateChange label: ClientDataChannel, state: closed, peerid: 0.7893199205354422\n",
      "[Open3D INFO] DataChannelObserver::OnStateChange label: ServerDataChannel, state: closing, peerid: 0.7650839186134488\n",
      "[Open3D INFO] DataChannelObserver::OnStateChange label: ServerDataChannel, state: closed, peerid: 0.7650839186134488\n",
      "[Open3D INFO] DataChannelObserver::OnStateChange label: ClientDataChannel, state: closing, peerid: 0.7650839186134488\n",
      "[Open3D INFO] DataChannelObserver::OnStateChange label: ClientDataChannel, state: closed, peerid: 0.7650839186134488\n",
      "[Open3D INFO] DataChannelObserver::OnStateChange label: ServerDataChannel, state: closing, peerid: 0.11471244982365092\n",
      "[Open3D INFO] DataChannelObserver::OnStateChange label: ServerDataChannel, state: closed, peerid: 0.11471244982365092\n",
      "[Open3D INFO] DataChannelObserver::OnStateChange label: ClientDataChannel, state: closing, peerid: 0.11471244982365092\n",
      "[Open3D INFO] DataChannelObserver::OnStateChange label: ClientDataChannel, state: closed, peerid: 0.11471244982365092\n"
     ]
    },
    {
     "name": "stderr",
     "output_type": "stream",
     "text": [
      "[000:000][13914] (dtls_transport.cc:529): DtlsTransport[0|1|__]: OnWritableState() called in state DTLS_TRANSPORT_CLOSED.\n",
      "[001:319][13914] (dtls_transport.cc:529): DtlsTransport[0|1|__]: OnWritableState() called in state DTLS_TRANSPORT_CLOSED.\n",
      "[001:387][13914] (dtls_transport.cc:529): DtlsTransport[0|1|__]: OnWritableState() called in state DTLS_TRANSPORT_CLOSED.\n",
      "[001:420][13914] (dtls_transport.cc:529): DtlsTransport[0|1|__]: OnWritableState() called in state DTLS_TRANSPORT_CLOSED.\n"
     ]
    }
   ],
   "source": [
    "# get pcls of all labels\n",
    "labels_list = []\n",
    "scores_list = []\n",
    "for key in datapoint['labels'].keys():\n",
    "    labels = datapoint['labels'][key]\n",
    "    scores = labels.sum()\n",
    "    print(\"Label: \", key, \" Score: \", scores)\n",
    "    labels_list.append(labels)\n",
    "    scores_list.append(scores)\n",
    "\n",
    "    labelled_pcd = o3d.geometry.PointCloud()\n",
    "    labelled_pcd.points = o3d.utility.Vector3dVector(pcl)\n",
    "    labelled_pcd.paint_uniform_color([0, 0, 0])\n",
    "    np.asarray(labelled_pcd.colors)[labels.squeeze() > 0] = np.random.uniform(0, 1, 3)\n",
    "    print(\"Label 0: \", key)\n",
    "    draw([labelled_pcd])"
   ]
  },
  {
   "cell_type": "code",
   "execution_count": 6,
   "metadata": {},
   "outputs": [
    {
     "name": "stdout",
     "output_type": "stream",
     "text": [
      "\u001b[1;33m[Open3D WARNING] Unable to load file /home/sjauhri/IAS_WS/ShapeNetCore.v2/02773838/dc52131684ed9cbbfe4a8257a424ee86/models/model_normalized.obj with ASSIMP\u001b[0;m\n",
      "ShapeNet category not found, try PartNet?\n",
      "[Open3D INFO] Window window_3 created.\n"
     ]
    },
    {
     "data": {
      "application/vnd.jupyter.widget-view+json": {
       "model_id": "841f0559397a4696bf8c956223606a89",
       "version_major": 2,
       "version_minor": 0
      },
      "text/plain": [
       "WebVisualizer(window_uid='window_3')"
      ]
     },
     "metadata": {},
     "output_type": "display_data"
    },
    {
     "name": "stdout",
     "output_type": "stream",
     "text": [
      "[Open3D INFO] [Called HTTP API (custom handshake)] /api/getIceServers\n",
      "[Open3D INFO] [Called HTTP API (custom handshake)] /api/call\n",
      "[Open3D INFO] [Called HTTP API (custom handshake)] /api/addIceCandidate\n",
      "[Open3D INFO] [Called HTTP API (custom handshake)] /api/addIceCandidate\n",
      "[Open3D INFO] [Called HTTP API (custom handshake)] /api/addIceCandidate\n",
      "[Open3D INFO] [Called HTTP API (custom handshake)] /api/addIceCandidate\n",
      "[Open3D INFO] [Called HTTP API (custom handshake)] /api/addIceCandidate\n",
      "[Open3D INFO] [Called HTTP API (custom handshake)] /api/addIceCandidate\n",
      "[Open3D INFO] [Called HTTP API (custom handshake)] /api/addIceCandidate\n",
      "[Open3D INFO] [Called HTTP API (custom handshake)] /api/addIceCandidate\n",
      "[Open3D INFO] [Called HTTP API (custom handshake)] /api/addIceCandidate\n",
      "[Open3D INFO] [Called HTTP API (custom handshake)] /api/addIceCandidate\n",
      "[Open3D INFO] [Called HTTP API (custom handshake)] /api/addIceCandidate\n",
      "[Open3D INFO] [Called HTTP API (custom handshake)] /api/addIceCandidate\n",
      "[Open3D INFO] [Called HTTP API (custom handshake)] /api/getIceCandidate\n",
      "[Open3D INFO] DataChannelObserver::OnStateChange label: ServerDataChannel, state: open, peerid: 0.11471244982365092\n",
      "[Open3D INFO] DataChannelObserver::OnStateChange label: ClientDataChannel, state: open, peerid: 0.11471244982365092\n",
      "[Open3D INFO] Sending init frames to window_3.\n"
     ]
    }
   ],
   "source": [
    "# Load and visualize the shapenet object\n",
    "from utils.partnet_utils import class_to_shapenet_dir, shapeid_to_partnet_dir\n",
    "# make keys values and values keys\n",
    "SHAPENET_PATH = '/home/sjauhri/IAS_WS/ShapeNetCore.v2'\n",
    "PARTNET_PATH  = '/home/sjauhri/IAS_WS/PartNet/data_v0'\n",
    "\n",
    "try :\n",
    "    obj_path = opj(SHAPENET_PATH, class_to_shapenet_dir[sem_class.lower()],\n",
    "                    shape_id, 'models', 'model_normalized.obj')\n",
    "    # Load with trimesh\n",
    "    # obj_mesh = trimesh.load(obj_path)\n",
    "    # obj_mesh.show()\n",
    "    # load with open3d\n",
    "    obj_mesh = o3d.io.read_triangle_mesh(obj_path)\n",
    "    ## Re-center and re-scale the corresponding point cloud to match the original shape\n",
    "    orig_points = obj_mesh.sample_points_uniformly(number_of_points=8000).points\n",
    "    # get the center of the mesh\n",
    "    orig_center = np.mean(orig_points, axis=0)\n",
    "    # get the maximum extent of the mesh\n",
    "    centered_points = orig_points - orig_center # center the points\n",
    "    orig_max_dist = np.max(np.sqrt(np.sum(centered_points**2, axis=1)))\n",
    "\n",
    "    # correct the pcl\n",
    "    corrected_pcl = pcl.copy()\n",
    "    # # flip along the z axis??\n",
    "    corrected_pcl[:,2] = -corrected_pcl[:,2]\n",
    "    # # flip along the x axis??\n",
    "    corrected_pcl[:,0] = -corrected_pcl[:,0]\n",
    "    # scale the point cloud\n",
    "    corrected_pcl = corrected_pcl * orig_max_dist\n",
    "    # recenter the point cloud\n",
    "    corrected_pcl += orig_center\n",
    "except:\n",
    "    print(\"ShapeNet category not found, try PartNet?\") \n",
    "    partnet_anno_id = datapoint['partnet_anno_id']\n",
    "    meshes_path = opj(PARTNET_PATH, partnet_anno_id, 'objs')\n",
    "    # loop through all meshes in the folder and add to open3d object\n",
    "    obj_mesh = o3d.geometry.TriangleMesh()\n",
    "    for mesh in os.listdir(meshes_path):\n",
    "        # optional: only load files with 'original' in the name\n",
    "        mesh_path = opj(meshes_path, mesh)\n",
    "        mesh = o3d.io.read_triangle_mesh(mesh_path)\n",
    "        obj_mesh += mesh\n",
    "    corrected_pcl = pcl\n",
    "\n",
    "# Viz with o3d/trimesh\n",
    "corrected_pcd = o3d.geometry.PointCloud()\n",
    "corrected_pcd.points = o3d.utility.Vector3dVector(corrected_pcl)\n",
    "# color red\n",
    "corrected_pcd.paint_uniform_color([1, 0, 0])\n",
    "# draw([obj_mesh,corrected_pcl_pcd])\n",
    "axes_mesh = o3d.geometry.TriangleMesh.create_coordinate_frame(size=0.6)\n",
    "draw([obj_mesh, corrected_pcd, axes_mesh])"
   ]
  },
  {
   "cell_type": "code",
   "execution_count": 7,
   "metadata": {},
   "outputs": [],
   "source": [
    "# # scale down the mesh to 10% of the original size\n",
    "# new_mesh = o3d.geometry.TriangleMesh()\n",
    "# new_mesh.vertices = o3d.utility.Vector3dVector(\n",
    "#     np.asarray(obj_mesh.vertices) * np.array([0.2, 0.2, 0.2]) )\n",
    "# new_mesh.triangles = o3d.utility.Vector3iVector(np.asarray(obj_mesh.triangles))\n",
    "# # scale down the point cloud to 10% of the original size\n",
    "# corrected_pcd.points = o3d.utility.Vector3dVector(\n",
    "#     np.asarray(corrected_pcd.points) * np.array([0.2, 0.2, 0.2]) )\n",
    "# draw([new_mesh,obj_mesh,corrected_pcd])"
   ]
  }
 ],
 "metadata": {
  "kernelspec": {
   "display_name": "Python 3 (ipykernel)",
   "language": "python",
   "name": "python3"
  },
  "language_info": {
   "codemirror_mode": {
    "name": "ipython",
    "version": 3
   },
   "file_extension": ".py",
   "mimetype": "text/x-python",
   "name": "python",
   "nbconvert_exporter": "python",
   "pygments_lexer": "ipython3",
   "version": "3.8.18"
  }
 },
 "nbformat": 4,
 "nbformat_minor": 2
}
