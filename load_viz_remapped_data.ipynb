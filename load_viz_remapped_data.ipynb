{
 "cells": [
  {
   "cell_type": "code",
   "execution_count": 332,
   "metadata": {},
   "outputs": [],
   "source": [
    "import os\n",
    "from os.path import join as opj\n",
    "import numpy as np\n",
    "import random\n",
    "\n",
    "import open3d as o3d\n",
    "from open3d.web_visualizer import draw\n",
    "import matplotlib.pyplot as plt\n",
    "import trimesh\n",
    "\n",
    "from utils import *\n",
    "from dataset import *"
   ]
  },
  {
   "cell_type": "code",
   "execution_count": 333,
   "metadata": {},
   "outputs": [
    {
     "name": "stdout",
     "output_type": "stream",
     "text": [
      "Loaded dataset with 1096 objects\n",
      "Num of semantic classes:  7\n",
      "Semantic classes:  ['Knife', 'Bag', 'Bottle', 'Scissors', 'Mug', 'Earphone', 'Hat']\n",
      "Num of affordances:  7\n",
      "All affordances:  ['handover', 'cut', 'stab', 'lift', 'wrap', 'pour', 'wear']\n"
     ]
    }
   ],
   "source": [
    "import pickle as pkl\n",
    "data_root = 'data_root'\n",
    "new_aff_path = opj(data_root, 'remapped_full_shape_train_data.pkl')\n",
    "with open(new_aff_path, 'rb') as f:\n",
    "    new_aff_dataset = pkl.load(f)\n",
    "print(\"Loaded dataset with {} objects\".format(new_aff_dataset['num_objects']))\n",
    "print(\"Num of semantic classes: \", len(new_aff_dataset[\"semantic_classes\"]))\n",
    "print(\"Semantic classes: \", new_aff_dataset[\"semantic_classes\"])\n",
    "print(\"Num of affordances: \", len(new_aff_dataset[\"affordance_classes\"]))\n",
    "print(\"All affordances: \", new_aff_dataset[\"affordance_classes\"])"
   ]
  },
  {
   "cell_type": "code",
   "execution_count": 334,
   "metadata": {},
   "outputs": [],
   "source": [
    "## pick a random datapoint\n",
    "# set_random_seed(0)\n",
    "# pick a random sem class\n",
    "sem_class = random.choice(new_aff_dataset['semantic_classes'])\n",
    "# pick a random shape id\n",
    "shape_id = random.choice(list(new_aff_dataset['data'][sem_class].keys()))\n",
    "datapoint = new_aff_dataset['data'][sem_class][shape_id]"
   ]
  },
  {
   "cell_type": "code",
   "execution_count": 335,
   "metadata": {},
   "outputs": [
    {
     "name": "stdout",
     "output_type": "stream",
     "text": [
      "Shape id  6e884701bfddd1f71e1138649f4c219 \n",
      "Semantic class:  Mug\n",
      "Drawing pcd with 2048 points\n",
      "[Open3D INFO] Window window_229 created.\n"
     ]
    },
    {
     "data": {
      "application/vnd.jupyter.widget-view+json": {
       "model_id": "66dbbe6ebff64807a12fc205142cf8bf",
       "version_major": 2,
       "version_minor": 0
      },
      "text/plain": [
       "WebVisualizer(window_uid='window_229')"
      ]
     },
     "metadata": {},
     "output_type": "display_data"
    },
    {
     "name": "stdout",
     "output_type": "stream",
     "text": [
      "[Open3D INFO] [Called HTTP API (custom handshake)] /api/getIceServers\n",
      "[Open3D INFO] [Called HTTP API (custom handshake)] /api/call\n",
      "[Open3D INFO] [Called HTTP API (custom handshake)] /api/addIceCandidate\n",
      "[Open3D INFO] [Called HTTP API (custom handshake)] /api/addIceCandidate\n",
      "[Open3D INFO] [Called HTTP API (custom handshake)] /api/addIceCandidate\n",
      "[Open3D INFO] [Called HTTP API (custom handshake)] /api/addIceCandidate\n",
      "[Open3D INFO] [Called HTTP API (custom handshake)] /api/addIceCandidate\n",
      "[Open3D INFO] [Called HTTP API (custom handshake)] /api/addIceCandidate\n",
      "[Open3D INFO] [Called HTTP API (custom handshake)] /api/getIceCandidate\n"
     ]
    }
   ],
   "source": [
    "print(\"Shape id \", shape_id, \"\\nSemantic class: \", sem_class)\n",
    "pcl = datapoint['coordinates']\n",
    "# Viz pcl with o3d\n",
    "pcd = o3d.geometry.PointCloud()\n",
    "pcd.points = o3d.utility.Vector3dVector(pcl)\n",
    "# color black\n",
    "pcd.paint_uniform_color([0, 0, 0])\n",
    "# viz in jupyter nb\n",
    "print(\"Drawing pcd with\", len(pcl), \"points\")\n",
    "draw(pcd)"
   ]
  },
  {
   "cell_type": "code",
   "execution_count": null,
   "metadata": {},
   "outputs": [
    {
     "name": "stdout",
     "output_type": "stream",
     "text": [
      "Label:  handover  Score:  355.65207\n",
      "Label 0:  handover\n",
      "[Open3D INFO] Window window_230 created.\n"
     ]
    },
    {
     "data": {
      "application/vnd.jupyter.widget-view+json": {
       "model_id": "0877147669c94aeda82015b6d8bda9b6",
       "version_major": 2,
       "version_minor": 0
      },
      "text/plain": [
       "WebVisualizer(window_uid='window_230')"
      ]
     },
     "metadata": {},
     "output_type": "display_data"
    },
    {
     "name": "stdout",
     "output_type": "stream",
     "text": [
      "Label:  wrap  Score:  89.07495\n",
      "Label 0:  wrap\n",
      "[Open3D INFO] Window window_231 created.\n"
     ]
    },
    {
     "data": {
      "application/vnd.jupyter.widget-view+json": {
       "model_id": "af2c024285d54ecc9f1b6f6b45bc6173",
       "version_major": 2,
       "version_minor": 0
      },
      "text/plain": [
       "WebVisualizer(window_uid='window_231')"
      ]
     },
     "metadata": {},
     "output_type": "display_data"
    },
    {
     "name": "stdout",
     "output_type": "stream",
     "text": [
      "Label:  pour  Score:  89.07495\n",
      "Label 0:  pour\n",
      "[Open3D INFO] Window window_232 created.\n"
     ]
    },
    {
     "data": {
      "application/vnd.jupyter.widget-view+json": {
       "model_id": "41035f6c250a4f95a01eb17881c1bd36",
       "version_major": 2,
       "version_minor": 0
      },
      "text/plain": [
       "WebVisualizer(window_uid='window_232')"
      ]
     },
     "metadata": {},
     "output_type": "display_data"
    },
    {
     "name": "stdout",
     "output_type": "stream",
     "text": [
      "[Open3D INFO] [Called HTTP API (custom handshake)] /api/getIceServers\n",
      "[Open3D INFO] [Called HTTP API (custom handshake)] /api/getIceServers\n",
      "[Open3D INFO] [Called HTTP API (custom handshake)] /api/getIceServers\n",
      "[Open3D INFO] [Called HTTP API (custom handshake)] /api/call\n",
      "[Open3D INFO] [Called HTTP API (custom handshake)] /api/call\n",
      "[Open3D INFO] DataChannelObserver::OnStateChange label: ServerDataChannel, state: open, peerid: 0.6831523545538223\n",
      "[Open3D INFO] DataChannelObserver::OnStateChange label: ClientDataChannel, state: open, peerid: 0.6831523545538223\n",
      "[Open3D INFO] Sending init frames to window_229.\n",
      "[Open3D INFO] [Called HTTP API (custom handshake)] /api/call\n",
      "[Open3D INFO] [Called HTTP API (custom handshake)] /api/addIceCandidate\n",
      "[Open3D INFO] DataChannelObserver::OnStateChange label: ServerDataChannel, state: open, peerid: 0.7946895901193369\n",
      "[Open3D INFO] DataChannelObserver::OnStateChange label: ClientDataChannel, state: open, peerid: 0.7946895901193369\n",
      "[Open3D INFO] Sending init frames to window_230.\n",
      "[Open3D INFO] [Called HTTP API (custom handshake)] /api/addIceCandidate\n",
      "[Open3D INFO] DataChannelObserver::OnStateChange label: ServerDataChannel, state: open, peerid: 0.25475312985581944\n",
      "[Open3D INFO] DataChannelObserver::OnStateChange label: ClientDataChannel, state: open, peerid: 0.25475312985581944\n",
      "[Open3D INFO] Sending init frames to window_231.\n",
      "[Open3D INFO] [Called HTTP API (custom handshake)] /api/addIceCandidate\n",
      "[Open3D INFO] DataChannelObserver::OnStateChange label: ServerDataChannel, state: open, peerid: 0.23851498555509187\n",
      "[Open3D INFO] DataChannelObserver::OnStateChange label: ClientDataChannel, state: open, peerid: 0.23851498555509187\n",
      "[Open3D INFO] Sending init frames to window_232.\n",
      "[Open3D INFO] [Called HTTP API (custom handshake)] /api/addIceCandidate\n",
      "[Open3D INFO] [Called HTTP API (custom handshake)] /api/addIceCandidate\n",
      "[Open3D INFO] [Called HTTP API (custom handshake)] /api/addIceCandidate\n",
      "[Open3D INFO] [Called HTTP API (custom handshake)] /api/addIceCandidate\n",
      "[Open3D INFO] [Called HTTP API (custom handshake)] /api/addIceCandidate\n",
      "[Open3D INFO] [Called HTTP API (custom handshake)] /api/getIceCandidate\n",
      "[Open3D INFO] [Called HTTP API (custom handshake)] /api/addIceCandidate\n",
      "[Open3D INFO] [Called HTTP API (custom handshake)] /api/addIceCandidate\n",
      "[Open3D INFO] [Called HTTP API (custom handshake)] /api/addIceCandidate\n",
      "[Open3D INFO] [Called HTTP API (custom handshake)] /api/addIceCandidate\n",
      "[Open3D INFO] [Called HTTP API (custom handshake)] /api/addIceCandidate\n",
      "[Open3D INFO] [Called HTTP API (custom handshake)] /api/getIceCandidate\n",
      "[Open3D INFO] [Called HTTP API (custom handshake)] /api/addIceCandidate\n",
      "[Open3D INFO] [Called HTTP API (custom handshake)] /api/addIceCandidate\n",
      "[Open3D INFO] [Called HTTP API (custom handshake)] /api/addIceCandidate\n",
      "[Open3D INFO] [Called HTTP API (custom handshake)] /api/addIceCandidate\n",
      "[Open3D INFO] [Called HTTP API (custom handshake)] /api/addIceCandidate\n",
      "[Open3D INFO] [Called HTTP API (custom handshake)] /api/getIceCandidate\n"
     ]
    },
    {
     "name": "stderr",
     "output_type": "stream",
     "text": [
      "[2179:762][12701] (stun_port.cc:96): Binding request timed out from 130.83.164.x:54200 (enp5s0)\n",
      "[2180:586][12701] (stun_port.cc:96): Binding request timed out from 130.83.164.x:48852 (enp5s0)\n",
      "[2180:593][12701] (stun_port.cc:96): Binding request timed out from 130.83.164.x:48981 (enp5s0)\n",
      "[2180:600][12701] (stun_port.cc:96): Binding request timed out from 130.83.164.x:35553 (enp5s0)\n",
      "[2180:613][12701] (stun_port.cc:96): Binding request timed out from 130.83.164.x:50851 (enp5s0)\n"
     ]
    }
   ],
   "source": [
    "# get pcls of all labels\n",
    "labels_list = []\n",
    "scores_list = []\n",
    "for key in datapoint['labels'].keys():\n",
    "    labels = datapoint['labels'][key]\n",
    "    scores = labels.sum()\n",
    "    print(\"Label: \", key, \" Score: \", scores)\n",
    "    labels_list.append(labels)\n",
    "    scores_list.append(scores)\n",
    "\n",
    "    labelled_pcd = o3d.geometry.PointCloud()\n",
    "    labelled_pcd.points = o3d.utility.Vector3dVector(pcl)\n",
    "    labelled_pcd.paint_uniform_color([0, 0, 0])\n",
    "    np.asarray(labelled_pcd.colors)[labels.squeeze() > 0] = np.random.uniform(0, 1, 3)\n",
    "    print(\"Label 0: \", key)\n",
    "    draw([labelled_pcd])"
   ]
  },
  {
   "cell_type": "code",
   "execution_count": 337,
   "metadata": {},
   "outputs": [
    {
     "name": "stdout",
     "output_type": "stream",
     "text": [
      "[Open3D INFO] Skipping non-triangle primitive geometry of type: 2\n",
      "[Open3D INFO] Skipping non-triangle primitive geometry of type: 2\n",
      "[Open3D INFO] Skipping non-triangle primitive geometry of type: 2\n",
      "[Open3D INFO] Window window_233 created.\n"
     ]
    },
    {
     "data": {
      "application/vnd.jupyter.widget-view+json": {
       "model_id": "fba51ee1a32c45d09d36c3774ad4c76e",
       "version_major": 2,
       "version_minor": 0
      },
      "text/plain": [
       "WebVisualizer(window_uid='window_233')"
      ]
     },
     "metadata": {},
     "output_type": "display_data"
    },
    {
     "name": "stdout",
     "output_type": "stream",
     "text": [
      "[Open3D INFO] [Called HTTP API (custom handshake)] /api/getIceServers\n",
      "[Open3D INFO] [Called HTTP API (custom handshake)] /api/call\n",
      "[Open3D INFO] [Called HTTP API (custom handshake)] /api/addIceCandidate\n",
      "[Open3D INFO] DataChannelObserver::OnStateChange label: ServerDataChannel, state: open, peerid: 0.06872436164190932\n",
      "[Open3D INFO] DataChannelObserver::OnStateChange label: ClientDataChannel, state: open, peerid: 0.06872436164190932\n",
      "[Open3D INFO] Sending init frames to window_233.\n",
      "[Open3D INFO] [Called HTTP API (custom handshake)] /api/addIceCandidate\n",
      "[Open3D INFO] [Called HTTP API (custom handshake)] /api/addIceCandidate\n",
      "[Open3D INFO] [Called HTTP API (custom handshake)] /api/addIceCandidate\n",
      "[Open3D INFO] [Called HTTP API (custom handshake)] /api/addIceCandidate\n",
      "[Open3D INFO] [Called HTTP API (custom handshake)] /api/addIceCandidate\n",
      "[Open3D INFO] [Called HTTP API (custom handshake)] /api/getIceCandidate\n"
     ]
    }
   ],
   "source": [
    "# Load and visualize the shapenet object\n",
    "from utils.partnet_utils import cat_descs\n",
    "# make keys values and values keys\n",
    "SHAPENET_PATH = '/home/sjauhri/IAS_WS/ShapeNetCore.v2'\n",
    "obj_path = opj(SHAPENET_PATH, cat_descs[sem_class.lower()],\n",
    "                shape_id, 'models', 'model_normalized.obj')\n",
    "# Load with trimesh\n",
    "# obj_mesh = trimesh.load(obj_path)\n",
    "# obj_mesh.show()\n",
    "# load with open3d\n",
    "obj_mesh = o3d.io.read_triangle_mesh(obj_path)\n",
    "\n",
    "## Re-center and re-scale the corresponding point cloud to match the original shape\n",
    "\n",
    "orig_points = obj_mesh.sample_points_uniformly(number_of_points=8000).points\n",
    "# get the center of the mesh\n",
    "orig_center = np.mean(orig_points, axis=0)\n",
    "# get the maximum extent of the mesh\n",
    "centered_points = orig_points - orig_center # center the points\n",
    "orig_max_dist = np.max(np.sqrt(np.sum(centered_points**2, axis=1)))\n",
    "\n",
    "# correct the pcl\n",
    "corrected_pcl = pcl.copy()\n",
    "# # flip along the z axis??\n",
    "corrected_pcl[:,2] = -corrected_pcl[:,2]\n",
    "# # flip along the x axis??\n",
    "corrected_pcl[:,0] = -corrected_pcl[:,0]\n",
    "# scale the point cloud\n",
    "corrected_pcl = corrected_pcl * orig_max_dist\n",
    "# recenter the point cloud\n",
    "corrected_pcl += orig_center\n",
    "\n",
    "# Viz with o3d/trimesh\n",
    "corrected_pcd = o3d.geometry.PointCloud()\n",
    "corrected_pcd.points = o3d.utility.Vector3dVector(corrected_pcl)\n",
    "# color red\n",
    "corrected_pcd.paint_uniform_color([1, 0, 0])\n",
    "# draw([obj_mesh,corrected_pcl_pcd])\n",
    "axes_mesh = o3d.geometry.TriangleMesh.create_coordinate_frame(size=0.6)\n",
    "draw([obj_mesh, corrected_pcd, axes_mesh])"
   ]
  }
 ],
 "metadata": {
  "kernelspec": {
   "display_name": "Python 3 (ipykernel)",
   "language": "python",
   "name": "python3"
  },
  "language_info": {
   "codemirror_mode": {
    "name": "ipython",
    "version": 3
   },
   "file_extension": ".py",
   "mimetype": "text/x-python",
   "name": "python",
   "nbconvert_exporter": "python",
   "pygments_lexer": "ipython3",
   "version": "3.8.18"
  }
 },
 "nbformat": 4,
 "nbformat_minor": 2
}
