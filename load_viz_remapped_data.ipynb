{
 "cells": [
  {
   "cell_type": "code",
   "execution_count": 37,
   "metadata": {},
   "outputs": [],
   "source": [
    "import os\n",
    "from os.path import join as opj\n",
    "import numpy as np\n",
    "import random\n",
    "\n",
    "import open3d as o3d\n",
    "from open3d.web_visualizer import draw\n",
    "import matplotlib.pyplot as plt\n",
    "import trimesh\n",
    "\n",
    "from utils import *\n",
    "from dataset import *"
   ]
  },
  {
   "cell_type": "code",
   "execution_count": 38,
   "metadata": {},
   "outputs": [
    {
     "name": "stdout",
     "output_type": "stream",
     "text": [
      "Loaded dataset with 1096 objects\n",
      "Num of semantic classes:  7\n",
      "Semantic classes:  ['Knife', 'Bag', 'Bottle', 'Scissors', 'Mug', 'Earphone', 'Hat']\n",
      "Num of affordances:  7\n",
      "All affordances:  ['handover', 'cut', 'stab', 'lift', 'wrap', 'pour', 'wear']\n"
     ]
    }
   ],
   "source": [
    "import pickle as pkl\n",
    "data_root = 'data_root/3DGraspAff/'\n",
    "new_aff_path = opj(data_root, 'anntd_remapped_full_shape_train_data.pkl')\n",
    "with open(new_aff_path, 'rb') as f:\n",
    "    new_aff_dataset = pkl.load(f)\n",
    "print(\"Loaded dataset with {} objects\".format(new_aff_dataset['num_objects']))\n",
    "print(\"Num of semantic classes: \", len(new_aff_dataset[\"semantic_classes\"]))\n",
    "print(\"Semantic classes: \", new_aff_dataset[\"semantic_classes\"])\n",
    "print(\"Num of affordances: \", len(new_aff_dataset[\"affordance_classes\"]))\n",
    "print(\"All affordances: \", new_aff_dataset[\"affordance_classes\"])"
   ]
  },
  {
   "cell_type": "code",
   "execution_count": 39,
   "metadata": {},
   "outputs": [],
   "source": [
    "## pick a random datapoint\n",
    "# set_random_seed(0)\n",
    "# pick a random sem class\n",
    "sem_class = random.choice(new_aff_dataset['semantic_classes']) # 'Scissors'\n",
    "# pick a random shape id\n",
    "shape_id = random.choice(list(new_aff_dataset['data'][sem_class].keys())) # '297c4f8e6d89d0b33d35434498261b'\n",
    "datapoint = new_aff_dataset['data'][sem_class][shape_id]"
   ]
  },
  {
   "cell_type": "code",
   "execution_count": 40,
   "metadata": {},
   "outputs": [
    {
     "name": "stdout",
     "output_type": "stream",
     "text": [
      "Shape id  44dae93d7b7701e1eb986aac871fa4e5 \n",
      "Semantic class:  Bottle\n",
      "Drawing pcd with 2048 points\n",
      "[Open3D INFO] Window window_21 created.\n"
     ]
    },
    {
     "data": {
      "application/vnd.jupyter.widget-view+json": {
       "model_id": "a0361b37623441f7a136f22a3a971770",
       "version_major": 2,
       "version_minor": 0
      },
      "text/plain": [
       "WebVisualizer(window_uid='window_21')"
      ]
     },
     "metadata": {},
     "output_type": "display_data"
    },
    {
     "name": "stdout",
     "output_type": "stream",
     "text": [
      "[Open3D INFO] DataChannelObserver::OnStateChange label: ServerDataChannel, state: open, peerid: 0.35301582973328127\n",
      "[Open3D INFO] DataChannelObserver::OnStateChange label: ClientDataChannel, state: open, peerid: 0.35301582973328127\n",
      "[Open3D INFO] Sending init frames to window_24.\n",
      "[Open3D INFO] [Called HTTP API (custom handshake)] /api/getIceServers\n",
      "[Open3D INFO] [Called HTTP API (custom handshake)] /api/call\n",
      "[Open3D INFO] [Called HTTP API (custom handshake)] /api/addIceCandidate\n",
      "[Open3D INFO] DataChannelObserver::OnStateChange label: ServerDataChannel, state: open, peerid: 0.38760575431885913\n",
      "[Open3D INFO] DataChannelObserver::OnStateChange label: ClientDataChannel, state: open, peerid: 0.38760575431885913\n",
      "[Open3D INFO] Sending init frames to window_21.\n",
      "[Open3D INFO] [Called HTTP API (custom handshake)] /api/addIceCandidate\n",
      "[Open3D INFO] [Called HTTP API (custom handshake)] /api/addIceCandidate\n",
      "[Open3D INFO] [Called HTTP API (custom handshake)] /api/addIceCandidate\n",
      "[Open3D INFO] [Called HTTP API (custom handshake)] /api/addIceCandidate\n",
      "[Open3D INFO] [Called HTTP API (custom handshake)] /api/addIceCandidate\n",
      "[Open3D INFO] [Called HTTP API (custom handshake)] /api/getIceCandidate\n"
     ]
    },
    {
     "name": "stderr",
     "output_type": "stream",
     "text": [
      "[61133:165][30565] (stun_port.cc:96): Binding request timed out from 130.83.164.x:34449 (enp5s0)\n",
      "[61133:759][30565] (stun_port.cc:96): Binding request timed out from 130.83.164.x:60455 (enp5s0)\n",
      "[61133:763][30565] (stun_port.cc:96): Binding request timed out from 130.83.164.x:34540 (enp5s0)\n",
      "[61133:769][30565] (stun_port.cc:96): Binding request timed out from 130.83.164.x:52406 (enp5s0)\n"
     ]
    },
    {
     "name": "stdout",
     "output_type": "stream",
     "text": [
      "[Open3D INFO] DataChannelObserver::OnStateChange label: ServerDataChannel, state: closing, peerid: 0.35301582973328127\n",
      "[Open3D INFO] DataChannelObserver::OnStateChange label: ServerDataChannel, state: closed, peerid: 0.35301582973328127\n",
      "[Open3D INFO] DataChannelObserver::OnStateChange label: ClientDataChannel, state: closing, peerid: 0.35301582973328127\n",
      "[Open3D INFO] DataChannelObserver::OnStateChange label: ClientDataChannel, state: closed, peerid: 0.35301582973328127\n",
      "[Open3D INFO] DataChannelObserver::OnStateChange label: ServerDataChannel, state: closing, peerid: 0.13326263991490528\n",
      "[Open3D INFO] DataChannelObserver::OnStateChange label: ServerDataChannel, state: closed, peerid: 0.13326263991490528\n",
      "[Open3D INFO] DataChannelObserver::OnStateChange label: ClientDataChannel, state: closing, peerid: 0.13326263991490528\n",
      "[Open3D INFO] DataChannelObserver::OnStateChange label: ClientDataChannel, state: closed, peerid: 0.13326263991490528\n",
      "[Open3D INFO] DataChannelObserver::OnStateChange label: ServerDataChannel, state: closing, peerid: 0.7478372997191247\n",
      "[Open3D INFO] DataChannelObserver::OnStateChange label: ServerDataChannel, state: closed, peerid: 0.7478372997191247\n",
      "[Open3D INFO] DataChannelObserver::OnStateChange label: ClientDataChannel, state: closing, peerid: 0.7478372997191247\n",
      "[Open3D INFO] DataChannelObserver::OnStateChange label: ClientDataChannel, state: closed, peerid: 0.7478372997191247\n",
      "[Open3D INFO] DataChannelObserver::OnStateChange label: ServerDataChannel, state: closing, peerid: 0.3544323967440075\n",
      "[Open3D INFO] DataChannelObserver::OnStateChange label: ServerDataChannel, state: closed, peerid: 0.3544323967440075\n",
      "[Open3D INFO] DataChannelObserver::OnStateChange label: ClientDataChannel, state: closing, peerid: 0.3544323967440075\n",
      "[Open3D INFO] DataChannelObserver::OnStateChange label: ClientDataChannel, state: closed, peerid: 0.3544323967440075\n",
      "[Open3D INFO] DataChannelObserver::OnStateChange label: ServerDataChannel, state: closing, peerid: 0.034930965914106826\n",
      "[Open3D INFO] DataChannelObserver::OnStateChange label: ServerDataChannel, state: closed, peerid: 0.034930965914106826\n",
      "[Open3D INFO] DataChannelObserver::OnStateChange label: ClientDataChannel, state: closing, peerid: 0.034930965914106826\n",
      "[Open3D INFO] DataChannelObserver::OnStateChange label: ClientDataChannel, state: closed, peerid: 0.034930965914106826\n",
      "[Open3D INFO] DataChannelObserver::OnStateChange label: ServerDataChannel, state: closing, peerid: 0.2918804643888966\n",
      "[Open3D INFO] DataChannelObserver::OnStateChange label: ServerDataChannel, state: closed, peerid: 0.2918804643888966\n",
      "[Open3D INFO] DataChannelObserver::OnStateChange label: ClientDataChannel, state: closing, peerid: 0.2918804643888966\n",
      "[Open3D INFO] DataChannelObserver::OnStateChange label: ClientDataChannel, state: closed, peerid: 0.2918804643888966\n",
      "[Open3D INFO] DataChannelObserver::OnStateChange label: ServerDataChannel, state: closing, peerid: 0.7449337882789631\n",
      "[Open3D INFO] DataChannelObserver::OnStateChange label: ServerDataChannel, state: closed, peerid: 0.7449337882789631\n",
      "[Open3D INFO] DataChannelObserver::OnStateChange label: ClientDataChannel, state: closing, peerid: 0.7449337882789631\n",
      "[Open3D INFO] DataChannelObserver::OnStateChange label: ClientDataChannel, state: closed, peerid: 0.7449337882789631\n",
      "[Open3D INFO] DataChannelObserver::OnStateChange label: ServerDataChannel, state: closing, peerid: 0.9902809421233674\n",
      "[Open3D INFO] DataChannelObserver::OnStateChange label: ServerDataChannel, state: closed, peerid: 0.9902809421233674\n",
      "[Open3D INFO] DataChannelObserver::OnStateChange label: ClientDataChannel, state: closing, peerid: 0.9902809421233674\n",
      "[Open3D INFO] DataChannelObserver::OnStateChange label: ClientDataChannel, state: closed, peerid: 0.9902809421233674\n",
      "[Open3D INFO] DataChannelObserver::OnStateChange label: ServerDataChannel, state: closing, peerid: 0.8414808609979938\n",
      "[Open3D INFO] DataChannelObserver::OnStateChange label: ServerDataChannel, state: closed, peerid: 0.8414808609979938\n",
      "[Open3D INFO] DataChannelObserver::OnStateChange label: ClientDataChannel, state: closing, peerid: 0.8414808609979938\n",
      "[Open3D INFO] DataChannelObserver::OnStateChange label: ClientDataChannel, state: closed, peerid: 0.8414808609979938\n",
      "[Open3D INFO] DataChannelObserver::OnStateChange label: ServerDataChannel, state: closing, peerid: 0.5343421776524113\n",
      "[Open3D INFO] DataChannelObserver::OnStateChange label: ServerDataChannel, state: closed, peerid: 0.5343421776524113\n",
      "[Open3D INFO] DataChannelObserver::OnStateChange label: ClientDataChannel, state: closing, peerid: 0.5343421776524113\n",
      "[Open3D INFO] DataChannelObserver::OnStateChange label: ClientDataChannel, state: closed, peerid: 0.5343421776524113\n",
      "[Open3D INFO] DataChannelObserver::OnStateChange label: ServerDataChannel, state: closing, peerid: 0.32924590704399215\n",
      "[Open3D INFO] DataChannelObserver::OnStateChange label: ServerDataChannel, state: closed, peerid: 0.32924590704399215\n",
      "[Open3D INFO] DataChannelObserver::OnStateChange label: ClientDataChannel, state: closing, peerid: 0.32924590704399215\n",
      "[Open3D INFO] DataChannelObserver::OnStateChange label: ClientDataChannel, state: closed, peerid: 0.32924590704399215\n",
      "[Open3D INFO] DataChannelObserver::OnStateChange label: ServerDataChannel, state: closing, peerid: 0.5083054960618776\n",
      "[Open3D INFO] DataChannelObserver::OnStateChange label: ServerDataChannel, state: closed, peerid: 0.5083054960618776\n",
      "[Open3D INFO] DataChannelObserver::OnStateChange label: ClientDataChannel, state: closing, peerid: 0.5083054960618776\n",
      "[Open3D INFO] DataChannelObserver::OnStateChange label: ClientDataChannel, state: closed, peerid: 0.5083054960618776\n",
      "[Open3D INFO] DataChannelObserver::OnStateChange label: ServerDataChannel, state: closing, peerid: 0.03952360623249551\n",
      "[Open3D INFO] DataChannelObserver::OnStateChange label: ServerDataChannel, state: closed, peerid: 0.03952360623249551\n",
      "[Open3D INFO] DataChannelObserver::OnStateChange label: ClientDataChannel, state: closing, peerid: 0.03952360623249551\n",
      "[Open3D INFO] DataChannelObserver::OnStateChange label: ClientDataChannel, state: closed, peerid: 0.03952360623249551\n",
      "[Open3D INFO] DataChannelObserver::OnStateChange label: ServerDataChannel, state: closing, peerid: 0.4559752734012472\n",
      "[Open3D INFO] DataChannelObserver::OnStateChange label: ServerDataChannel, state: closed, peerid: 0.4559752734012472\n",
      "[Open3D INFO] DataChannelObserver::OnStateChange label: ClientDataChannel, state: closing, peerid: 0.4559752734012472\n",
      "[Open3D INFO] DataChannelObserver::OnStateChange label: ClientDataChannel, state: closed, peerid: 0.4559752734012472\n",
      "[Open3D INFO] DataChannelObserver::OnStateChange label: ServerDataChannel, state: closing, peerid: 0.8139847004762877\n",
      "[Open3D INFO] DataChannelObserver::OnStateChange label: ServerDataChannel, state: closed, peerid: 0.8139847004762877\n",
      "[Open3D INFO] DataChannelObserver::OnStateChange label: ClientDataChannel, state: closing, peerid: 0.8139847004762877\n",
      "[Open3D INFO] DataChannelObserver::OnStateChange label: ClientDataChannel, state: closed, peerid: 0.8139847004762877\n",
      "[Open3D INFO] DataChannelObserver::OnStateChange label: ServerDataChannel, state: closing, peerid: 0.2010275745780581\n",
      "[Open3D INFO] DataChannelObserver::OnStateChange label: ServerDataChannel, state: closed, peerid: 0.2010275745780581\n",
      "[Open3D INFO] DataChannelObserver::OnStateChange label: ClientDataChannel, state: closing, peerid: 0.2010275745780581\n",
      "[Open3D INFO] DataChannelObserver::OnStateChange label: ClientDataChannel, state: closed, peerid: 0.2010275745780581\n",
      "[Open3D INFO] DataChannelObserver::OnStateChange label: ServerDataChannel, state: closing, peerid: 0.25754894414361895\n",
      "[Open3D INFO] DataChannelObserver::OnStateChange label: ServerDataChannel, state: closed, peerid: 0.25754894414361895\n",
      "[Open3D INFO] DataChannelObserver::OnStateChange label: ClientDataChannel, state: closing, peerid: 0.25754894414361895\n",
      "[Open3D INFO] DataChannelObserver::OnStateChange label: ClientDataChannel, state: closed, peerid: 0.25754894414361895\n",
      "[Open3D INFO] DataChannelObserver::OnStateChange label: ServerDataChannel, state: closing, peerid: 0.6939882062235327\n",
      "[Open3D INFO] DataChannelObserver::OnStateChange label: ServerDataChannel, state: closed, peerid: 0.6939882062235327\n",
      "[Open3D INFO] DataChannelObserver::OnStateChange label: ClientDataChannel, state: closing, peerid: 0.6939882062235327\n",
      "[Open3D INFO] DataChannelObserver::OnStateChange label: ClientDataChannel, state: closed, peerid: 0.6939882062235327\n",
      "[Open3D INFO] DataChannelObserver::OnStateChange label: ServerDataChannel, state: closing, peerid: 0.2476980948943548\n",
      "[Open3D INFO] DataChannelObserver::OnStateChange label: ServerDataChannel, state: closed, peerid: 0.2476980948943548\n",
      "[Open3D INFO] DataChannelObserver::OnStateChange label: ClientDataChannel, state: closing, peerid: 0.2476980948943548\n",
      "[Open3D INFO] DataChannelObserver::OnStateChange label: ClientDataChannel, state: closed, peerid: 0.2476980948943548\n",
      "[Open3D INFO] DataChannelObserver::OnStateChange label: ServerDataChannel, state: closing, peerid: 0.38760575431885913\n",
      "[Open3D INFO] DataChannelObserver::OnStateChange label: ServerDataChannel, state: closed, peerid: 0.38760575431885913\n",
      "[Open3D INFO] DataChannelObserver::OnStateChange label: ClientDataChannel, state: closing, peerid: 0.38760575431885913\n",
      "[Open3D INFO] DataChannelObserver::OnStateChange label: ClientDataChannel, state: closed, peerid: 0.38760575431885913\n",
      "[Open3D INFO] DataChannelObserver::OnStateChange label: ServerDataChannel, state: closing, peerid: 0.2574558366609436\n",
      "[Open3D INFO] DataChannelObserver::OnStateChange label: ServerDataChannel, state: closed, peerid: 0.2574558366609436\n",
      "[Open3D INFO] DataChannelObserver::OnStateChange label: ClientDataChannel, state: closing, peerid: 0.2574558366609436\n",
      "[Open3D INFO] DataChannelObserver::OnStateChange label: ClientDataChannel, state: closed, peerid: 0.2574558366609436\n",
      "[Open3D INFO] DataChannelObserver::OnStateChange label: ServerDataChannel, state: closing, peerid: 0.8223225724586196\n",
      "[Open3D INFO] DataChannelObserver::OnStateChange label: ServerDataChannel, state: closed, peerid: 0.8223225724586196\n",
      "[Open3D INFO] DataChannelObserver::OnStateChange label: ClientDataChannel, state: closing, peerid: 0.8223225724586196\n",
      "[Open3D INFO] DataChannelObserver::OnStateChange label: ClientDataChannel, state: closed, peerid: 0.8223225724586196\n",
      "[Open3D INFO] DataChannelObserver::OnStateChange label: ServerDataChannel, state: closing, peerid: 0.11914130624766273\n",
      "[Open3D INFO] DataChannelObserver::OnStateChange label: ServerDataChannel, state: closed, peerid: 0.11914130624766273\n",
      "[Open3D INFO] DataChannelObserver::OnStateChange label: ClientDataChannel, state: closing, peerid: 0.11914130624766273\n",
      "[Open3D INFO] DataChannelObserver::OnStateChange label: ClientDataChannel, state: closed, peerid: 0.11914130624766273\n",
      "[Open3D INFO] DataChannelObserver::OnStateChange label: ServerDataChannel, state: closing, peerid: 0.4690980476117823\n",
      "[Open3D INFO] DataChannelObserver::OnStateChange label: ServerDataChannel, state: closed, peerid: 0.4690980476117823\n",
      "[Open3D INFO] DataChannelObserver::OnStateChange label: ClientDataChannel, state: closing, peerid: 0.4690980476117823\n",
      "[Open3D INFO] DataChannelObserver::OnStateChange label: ClientDataChannel, state: closed, peerid: 0.4690980476117823\n",
      "[Open3D INFO] DataChannelObserver::OnStateChange label: ServerDataChannel, state: closing, peerid: 0.09967110650389488\n",
      "[Open3D INFO] DataChannelObserver::OnStateChange label: ServerDataChannel, state: closed, peerid: 0.09967110650389488\n",
      "[Open3D INFO] DataChannelObserver::OnStateChange label: ClientDataChannel, state: closing, peerid: 0.09967110650389488\n",
      "[Open3D INFO] DataChannelObserver::OnStateChange label: ClientDataChannel, state: closed, peerid: 0.09967110650389488\n"
     ]
    },
    {
     "name": "stderr",
     "output_type": "stream",
     "text": [
      "[61136:812][30565] (stun_port.cc:96): Binding request timed out from 130.83.164.x:57034 (enp5s0)\n"
     ]
    }
   ],
   "source": [
    "print(\"Shape id \", shape_id, \"\\nSemantic class: \", sem_class)\n",
    "pcl = datapoint['coordinates']\n",
    "# Viz pcl with o3d\n",
    "pcd = o3d.geometry.PointCloud()\n",
    "pcd.points = o3d.utility.Vector3dVector(pcl)\n",
    "# color black\n",
    "pcd.paint_uniform_color([0, 0, 0])\n",
    "# viz in jupyter nb\n",
    "print(\"Drawing pcd with\", len(pcl), \"points\")\n",
    "draw(pcd)"
   ]
  },
  {
   "cell_type": "code",
   "execution_count": null,
   "metadata": {},
   "outputs": [
    {
     "name": "stdout",
     "output_type": "stream",
     "text": [
      "Label:  handover  Score:  2048\n",
      "Label 0:  handover\n",
      "[Open3D INFO] Window window_22 created.\n"
     ]
    },
    {
     "data": {
      "application/vnd.jupyter.widget-view+json": {
       "model_id": "69a2f99c21474593b9b015817e658aaf",
       "version_major": 2,
       "version_minor": 0
      },
      "text/plain": [
       "WebVisualizer(window_uid='window_22')"
      ]
     },
     "metadata": {},
     "output_type": "display_data"
    },
    {
     "name": "stdout",
     "output_type": "stream",
     "text": [
      "Label:  wrap  Score:  2048\n",
      "Label 0:  wrap\n",
      "[Open3D INFO] Window window_23 created.\n"
     ]
    },
    {
     "data": {
      "application/vnd.jupyter.widget-view+json": {
       "model_id": "640ed8999f25470f933313a908d59a14",
       "version_major": 2,
       "version_minor": 0
      },
      "text/plain": [
       "WebVisualizer(window_uid='window_23')"
      ]
     },
     "metadata": {},
     "output_type": "display_data"
    },
    {
     "name": "stdout",
     "output_type": "stream",
     "text": [
      "Label:  pour  Score:  554.2102\n",
      "Label 0:  pour\n",
      "[Open3D INFO] Window window_24 created.\n"
     ]
    },
    {
     "data": {
      "application/vnd.jupyter.widget-view+json": {
       "model_id": "b7d37def0ce746c4b67d3b9c96df376f",
       "version_major": 2,
       "version_minor": 0
      },
      "text/plain": [
       "WebVisualizer(window_uid='window_24')"
      ]
     },
     "metadata": {},
     "output_type": "display_data"
    },
    {
     "name": "stdout",
     "output_type": "stream",
     "text": [
      "[Open3D INFO] [Called HTTP API (custom handshake)] /api/getIceServers\n",
      "[Open3D INFO] [Called HTTP API (custom handshake)] /api/getIceServers\n",
      "[Open3D INFO] [Called HTTP API (custom handshake)] /api/getIceServers\n",
      "[Open3D INFO] [Called HTTP API (custom handshake)] /api/call\n",
      "[Open3D INFO] [Called HTTP API (custom handshake)] /api/call\n",
      "[Open3D INFO] [Called HTTP API (custom handshake)] /api/call\n",
      "[Open3D INFO] [Called HTTP API (custom handshake)] /api/addIceCandidate\n",
      "[Open3D INFO] DataChannelObserver::OnStateChange label: ServerDataChannel, state: open, peerid: 0.6939882062235327\n",
      "[Open3D INFO] [Called HTTP API (custom handshake)] /api/addIceCandidate\n",
      "[Open3D INFO] [Called HTTP API (custom handshake)] /api/addIceCandidate\n",
      "[Open3D INFO] [Called HTTP API (custom handshake)] /api/addIceCandidate\n",
      "[Open3D INFO] [Called HTTP API (custom handshake)] /api/addIceCandidate\n",
      "[Open3D INFO] DataChannelObserver::OnStateChange label: ClientDataChannel, state: open, peerid: 0.6939882062235327\n",
      "[Open3D INFO] Sending init frames to window_22.\n",
      "[Open3D INFO] DataChannelObserver::OnStateChange label: ServerDataChannel, state: open, peerid: 0.5083054960618776\n",
      "[Open3D INFO] DataChannelObserver::OnStateChange label: ClientDataChannel, state: open, peerid: 0.5083054960618776\n",
      "[Open3D INFO] [Called HTTP API (custom handshake)] /api/addIceCandidate\n",
      "[Open3D INFO] Sending init frames to window_23.\n",
      "[Open3D INFO] [Called HTTP API (custom handshake)] /api/addIceCandidate\n",
      "[Open3D INFO] [Called HTTP API (custom handshake)] /api/getIceCandidate\n",
      "[Open3D INFO] [Called HTTP API (custom handshake)] /api/addIceCandidate\n",
      "[Open3D INFO] [Called HTTP API (custom handshake)] /api/addIceCandidate\n",
      "[Open3D INFO] [Called HTTP API (custom handshake)] /api/addIceCandidate\n",
      "[Open3D INFO] [Called HTTP API (custom handshake)] /api/addIceCandidate\n",
      "[Open3D INFO] [Called HTTP API (custom handshake)] /api/addIceCandidate\n",
      "[Open3D INFO] [Called HTTP API (custom handshake)] /api/addIceCandidate\n",
      "[Open3D INFO] [Called HTTP API (custom handshake)] /api/getIceCandidate\n",
      "[Open3D INFO] [Called HTTP API (custom handshake)] /api/addIceCandidate\n",
      "[Open3D INFO] [Called HTTP API (custom handshake)] /api/addIceCandidate\n",
      "[Open3D INFO] [Called HTTP API (custom handshake)] /api/addIceCandidate\n",
      "[Open3D INFO] [Called HTTP API (custom handshake)] /api/addIceCandidate\n",
      "[Open3D INFO] [Called HTTP API (custom handshake)] /api/addIceCandidate\n",
      "[Open3D INFO] [Called HTTP API (custom handshake)] /api/getIceCandidate\n"
     ]
    }
   ],
   "source": [
    "# get pcls of all labels\n",
    "labels_list = []\n",
    "scores_list = []\n",
    "for key in datapoint['labels'].keys():\n",
    "    labels = datapoint['labels'][key]\n",
    "    scores = labels.sum()\n",
    "    print(\"Label: \", key, \" Score: \", scores)\n",
    "    labels_list.append(labels)\n",
    "    scores_list.append(scores)\n",
    "\n",
    "    labelled_pcd = o3d.geometry.PointCloud()\n",
    "    labelled_pcd.points = o3d.utility.Vector3dVector(pcl)\n",
    "    labelled_pcd.paint_uniform_color([0, 0, 0])\n",
    "    np.asarray(labelled_pcd.colors)[labels.squeeze() > 0] = np.random.uniform(0, 1, 3)\n",
    "    print(\"Label 0: \", key)\n",
    "    draw([labelled_pcd])"
   ]
  },
  {
   "cell_type": "code",
   "execution_count": 42,
   "metadata": {},
   "outputs": [
    {
     "name": "stdout",
     "output_type": "stream",
     "text": [
      "[Open3D INFO] Skipping non-triangle primitive geometry of type: 2\n",
      "[Open3D INFO] Skipping non-triangle primitive geometry of type: 2\n",
      "[Open3D INFO] Skipping non-triangle primitive geometry of type: 2\n",
      "[Open3D INFO] Skipping non-triangle primitive geometry of type: 2\n",
      "[Open3D INFO] Skipping non-triangle primitive geometry of type: 2\n",
      "[Open3D INFO] Skipping non-triangle primitive geometry of type: 2\n",
      "[Open3D INFO] Skipping non-triangle primitive geometry of type: 2\n",
      "[Open3D INFO] Skipping non-triangle primitive geometry of type: 2\n",
      "[Open3D INFO] Window window_25 created.\n"
     ]
    },
    {
     "data": {
      "application/vnd.jupyter.widget-view+json": {
       "model_id": "c35a5c5804914eba9f80289eb886ceb7",
       "version_major": 2,
       "version_minor": 0
      },
      "text/plain": [
       "WebVisualizer(window_uid='window_25')"
      ]
     },
     "metadata": {},
     "output_type": "display_data"
    },
    {
     "name": "stdout",
     "output_type": "stream",
     "text": [
      "[Open3D INFO] [Called HTTP API (custom handshake)] /api/getIceServers\n",
      "[Open3D INFO] [Called HTTP API (custom handshake)] /api/call\n",
      "[Open3D INFO] [Called HTTP API (custom handshake)] /api/addIceCandidate\n",
      "[Open3D INFO] DataChannelObserver::OnStateChange label: ServerDataChannel, state: open, peerid: 0.7478372997191247\n",
      "[Open3D INFO] DataChannelObserver::OnStateChange label: ClientDataChannel, state: open, peerid: 0.7478372997191247\n",
      "[Open3D INFO] Sending init frames to window_25.\n",
      "[Open3D INFO] [Called HTTP API (custom handshake)] /api/addIceCandidate\n",
      "[Open3D INFO] [Called HTTP API (custom handshake)] /api/addIceCandidate\n",
      "[Open3D INFO] [Called HTTP API (custom handshake)] /api/addIceCandidate\n",
      "[Open3D INFO] [Called HTTP API (custom handshake)] /api/addIceCandidate\n",
      "[Open3D INFO] [Called HTTP API (custom handshake)] /api/addIceCandidate\n",
      "[Open3D INFO] [Called HTTP API (custom handshake)] /api/getIceCandidate\n"
     ]
    }
   ],
   "source": [
    "# Load and visualize the shapenet object\n",
    "from utils.partnet_utils import class_to_shapenet_dir, shapeid_to_partnet_dir\n",
    "# make keys values and values keys\n",
    "SHAPENET_PATH = '/home/sjauhri/IAS_WS/ShapeNetCore.v2'\n",
    "PARTNET_PATH  = '/home/sjauhri/IAS_WS/PartNet/data_v0'\n",
    "rescale_shapenet_pcl = True\n",
    "\n",
    "try :\n",
    "    obj_path = opj(SHAPENET_PATH, class_to_shapenet_dir[sem_class.lower()],\n",
    "                    shape_id, 'models', 'model_normalized.obj')\n",
    "    # Load with trimesh\n",
    "    # obj_mesh = trimesh.load(obj_path)\n",
    "    # obj_mesh.show()\n",
    "    # load with open3d\n",
    "    obj_mesh = o3d.io.read_triangle_mesh(obj_path)\n",
    "    ## Re-center and re-scale the corresponding point cloud to match the original shape\n",
    "    orig_points = obj_mesh.sample_points_uniformly(number_of_points=8000).points\n",
    "    # get the center of the mesh\n",
    "    orig_center = np.mean(orig_points, axis=0)\n",
    "    # get the maximum extent of the mesh\n",
    "    centered_points = orig_points - orig_center # center the points\n",
    "    orig_max_dist = np.max(np.sqrt(np.sum(centered_points**2, axis=1)))\n",
    "\n",
    "    # correct the pcl\n",
    "    corrected_pcl = pcl.copy()\n",
    "    if rescale_shapenet_pcl:\n",
    "        # flip along the z axis??\n",
    "        corrected_pcl[:,2] = -corrected_pcl[:,2]\n",
    "        # # flip along the x axis??\n",
    "        corrected_pcl[:,0] = -corrected_pcl[:,0]\n",
    "        # scale the point cloud\n",
    "        corrected_pcl *= orig_max_dist\n",
    "        # recenter the point cloud\n",
    "        corrected_pcl += orig_center\n",
    "except:\n",
    "    print(\"ShapeNet category not found, try PartNet?\") \n",
    "    partnet_anno_id = datapoint['partnet_anno_id']\n",
    "    meshes_path = opj(PARTNET_PATH, partnet_anno_id, 'objs')\n",
    "    # loop through all meshes in the folder and add to open3d object\n",
    "    obj_mesh = o3d.geometry.TriangleMesh()\n",
    "    for mesh in os.listdir(meshes_path):\n",
    "        # optional: only load files with 'original' in the name\n",
    "        mesh_path = opj(meshes_path, mesh)\n",
    "        mesh = o3d.io.read_triangle_mesh(mesh_path)\n",
    "        obj_mesh += mesh\n",
    "    corrected_pcl = pcl\n",
    "\n",
    "# Viz with o3d/trimesh\n",
    "corrected_pcd = o3d.geometry.PointCloud()\n",
    "corrected_pcd.points = o3d.utility.Vector3dVector(corrected_pcl)\n",
    "# color red\n",
    "corrected_pcd.paint_uniform_color([1, 0, 0])\n",
    "# draw([obj_mesh,corrected_pcl_pcd])\n",
    "axes_mesh = o3d.geometry.TriangleMesh.create_coordinate_frame(size=0.6)\n",
    "draw([obj_mesh, corrected_pcd, axes_mesh])"
   ]
  },
  {
   "cell_type": "code",
   "execution_count": 43,
   "metadata": {},
   "outputs": [],
   "source": [
    "# # scale down the mesh to 10% of the original size\n",
    "# new_mesh = o3d.geometry.TriangleMesh()\n",
    "# new_mesh.vertices = o3d.utility.Vector3dVector(\n",
    "#     np.asarray(obj_mesh.vertices) * np.array([0.2, 0.2, 0.2]) )\n",
    "# new_mesh.triangles = o3d.utility.Vector3iVector(np.asarray(obj_mesh.triangles))\n",
    "# # scale down the point cloud to 10% of the original size\n",
    "# corrected_pcd.points = o3d.utility.Vector3dVector(\n",
    "#     np.asarray(corrected_pcd.points) * np.array([0.2, 0.2, 0.2]) )\n",
    "# draw([new_mesh,obj_mesh,corrected_pcd])"
   ]
  },
  {
   "cell_type": "code",
   "execution_count": 44,
   "metadata": {},
   "outputs": [
    {
     "name": "stdout",
     "output_type": "stream",
     "text": [
      "Min xyz:  [-0.19220653 -0.5860672  -0.19170323]\n",
      "Max xyz:  [0.1921197  0.22529662 0.19216867]\n"
     ]
    }
   ],
   "source": [
    "# print min, max xyz of the corrected pcl\n",
    "print(\"Min xyz: \", np.min(corrected_pcl, axis=0))\n",
    "print(\"Max xyz: \", np.max(corrected_pcl, axis=0))"
   ]
  }
 ],
 "metadata": {
  "kernelspec": {
   "display_name": "Python 3 (ipykernel)",
   "language": "python",
   "name": "python3"
  },
  "language_info": {
   "codemirror_mode": {
    "name": "ipython",
    "version": 3
   },
   "file_extension": ".py",
   "mimetype": "text/x-python",
   "name": "python",
   "nbconvert_exporter": "python",
   "pygments_lexer": "ipython3",
   "version": "3.8.18"
  }
 },
 "nbformat": 4,
 "nbformat_minor": 2
}
